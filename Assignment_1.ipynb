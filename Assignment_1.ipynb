{
 "cells": [
  {
   "cell_type": "markdown",
   "metadata": {},
   "source": [
    "# Assignment 1\n",
    "\n",
    "## Objective of this assignment\n",
    "The objective is to get acquainted with the Python language, with emphasis on its scientific and numerical extensions, how data can be imported from other data sources, the linear algebra basics that are needed for this course, visualization using principal component analysis (PCA) and the concept of similarity. Upon completing this exercise it is expected that you:\n",
    "\n",
    "- Understand how data can be represented as vectors and matrices in numerical Python (NumPy).\n",
    "- Can apply and interpret principal component analysis (PCA) for data visualization.\n",
    "- Understand the various measures of similarity such as Jaccard and Cosine similarity and apply similarity measures to query for similar observations.\n",
    "\n",
    "## ** Important: ** When handing in your homework:\n",
    "+ Hand in the notebook (and nothing else) named as follows: `StudentName1_snumber_StudentName2_snumber.ipynb`\n",
    "+ Provide clear and complete answers to the questions below under a separate header (not hidden somewhere in your source code), and make sure to explain your answers / motivate your choices. Add Markdown cells where necessary.\n",
    "+ Source code, output graphs, derivations, etc., should be included in the notebook.\n",
    "+ Hand-in: upload to Brightspace.\n",
    "+ Include name, student number, assignment (especially in filenames)!\n",
    "+ When working in pairs only one of you should upload the assignment, and report the name of your partner in your filename.\n",
    "+ Use the Brightspace discussion board or email the student assistants for questions on how to complete the exercises.\n",
    "+ If you find mistakes/have suggestions/would like to complain about the assigment material itself, please email me [Lisa] at `l.tostrams@science.ru.nl`\n",
    "\n",
    "\n",
    "## Advised Reading and Exercise Material\n",
    "**The following on-line materials are recommended:**\n",
    "\n",
    "- <http://docs.python.org/tutorial> - Introduction into Python environment, syntax and data structures. Recommended reading - sections 1, 2, 3, 4 and 5.\n",
    "- <https://docs.scipy.org/doc/numpy/user/quickstart.html> - Tutorial introducing the scientific computing in Python, array and matrix operations, indexing and slicing matrices.\n",
    "- <https://docs.scipy.org/doc/numpy/user/numpy-for-matlab-users.html> - Useful reference to scientific computing in Python if you have previous experience with MATLAB programming.\n",
    "- <https://www.datacamp.com/courses/intro-to-python-for-data-science> - Simple introduction to Data Science using Python.\n",
    "- <https://matplotlib.org/> - Documentation and examples related to matplotlib module, which we shall use extensively through the course to visualize data and results.\n",
    "- Pang-Ning Tan, Michael Steinbach, and Vipin Kumar, **Introduction to Data Mining**, sections 2.1-2.3 + (A) + B.1\n",
    "- Pang-Ning Tan, Michael Steinbach, and Vipin Kumar, **Introduction to Data Mining**, sections 2.4 + 3.1-3.2 + C.1-C.2\n",
    "\n",
    "\n",
    "## 1.1 Python and Linear Algebra basics\n",
    "\n",
    "**For this course we advise to only use NumPy ndarrays to represent vectors and matrices. The numpy.matrix data type, although intuitive, is less supported and uses operators for multiplication differently. This means that you can't perform matrix multiplications symbollically, but that you will have to use functions from the NumPy library!** \n",
    "\n",
    "**1.1.1** a)(0.3 points) Generate (and print) the following vectors using functions from the *NumPy* package in Python: \n",
    "*Note: You do not have to print column vectors as columns!*\n",
    "\n",
    "\\begin{equation}\n",
    "     \\textbf{x} = \\begin{pmatrix} \n",
    "         6 \\\\\n",
    "         7 \\\\\n",
    "         8 \\\\\n",
    "         9 \\\\\n",
    "         10 \\\\\n",
    "         11 \\\\\n",
    "         12\n",
    "       \\end{pmatrix}\n",
    "     \\textbf{y} = \\begin{pmatrix} \n",
    "         3 \\\\\n",
    "         7 \\\\\n",
    "         11 \\\\\n",
    "         15 \\\\\n",
    "         19 \\\\\n",
    "         23 \\\\\n",
    "         27\n",
    "       \\end{pmatrix}\n",
    "     \\textbf{w} = \\begin{pmatrix} \n",
    "         1 \\\\\n",
    "         1 \\\\\n",
    "         0 \\\\\n",
    "         0.5 \\\\\n",
    "         1 \\\\\n",
    "         1.5 \\\\\n",
    "         2 \\\\\n",
    "         0 \\\\\n",
    "         0 \n",
    "       \\end{pmatrix}\n",
    "     \\textbf{s} = \\begin{pmatrix}\n",
    "         100 \\\\\n",
    "         98.8 \\\\\n",
    "         97.6 \\\\\n",
    "         96.4 \\\\\n",
    "         95.2\n",
    "       \\end{pmatrix} \n",
    "     \\textbf{z} = \\begin{pmatrix}\n",
    "         0.7 \\\\\n",
    "         1.0 \\\\\n",
    "         1.3 \\\\\n",
    "         1.6 \\\\\n",
    "         1.9 \\\\\n",
    "         2.2 \\\\\n",
    "         2.5 \\\\\n",
    "         2.8\n",
    "       \\end{pmatrix}\n",
    "  \\end{equation}\n",
    "\n"
   ]
  },
  {
   "cell_type": "code",
   "execution_count": 1,
   "metadata": {},
   "outputs": [],
   "source": [
    "#Import NumPy\n",
    "import numpy as np\n",
    "#You'll have to manually import libraries in the future!"
   ]
  },
  {
   "cell_type": "code",
   "execution_count": 2,
   "metadata": {},
   "outputs": [
    {
     "name": "stdout",
     "output_type": "stream",
     "text": [
      "[ 6  7  8  9 10 11 12]\n",
      "[ 3  7 11 15 19 23 27]\n",
      "[1.  1.  0.  0.5 1.  1.5 2.  0.  0. ]\n",
      "[100.   98.8  97.6  96.4  95.2]\n",
      "[0.7 1.  1.3 1.6 1.9 2.2 2.5 2.8]\n"
     ]
    }
   ],
   "source": [
    "##Generate the vectors using Python and NumPy \n",
    "x = np.arange(6, 13)\n",
    "y = np.arange(3, 30, 4)\n",
    "w = np.array([1, 1, 0, .5, 1, 1.5, 2, 0, 0])\n",
    "s = np.array([100, 98.8, 97.6, 96.4, 95.2])\n",
    "z = np.arange(0.7, 3.0, 0.3)\n",
    "\n",
    "\n",
    "# Remember to show your results!\n",
    "print(x)\n",
    "print(y)\n",
    "print(w)\n",
    "print(s)\n",
    "print(z)"
   ]
  },
  {
   "cell_type": "markdown",
   "metadata": {},
   "source": [
    "Then compute the following operations:\n",
    "> b) (0.2 points) **v** = 3**x** + **y**"
   ]
  },
  {
   "cell_type": "code",
   "execution_count": 3,
   "metadata": {},
   "outputs": [
    {
     "name": "stdout",
     "output_type": "stream",
     "text": [
      "[21 28 35 42 49 56 63]\n"
     ]
    }
   ],
   "source": [
    "##Answer to question 1.1.1b\n",
    "v = 3 * x + y\n",
    "print(v)\n"
   ]
  },
  {
   "cell_type": "markdown",
   "metadata": {},
   "source": [
    "> c) (0.2 points) The dot product between **x** and **y** and name it **q**\n"
   ]
  },
  {
   "cell_type": "code",
   "execution_count": 4,
   "metadata": {},
   "outputs": [
    {
     "name": "stdout",
     "output_type": "stream",
     "text": [
      "1057\n"
     ]
    }
   ],
   "source": [
    "##Answer to question 1.1.1c\n",
    "q = np.dot(x, y)\n",
    "print(q)"
   ]
  },
  {
   "cell_type": "markdown",
   "metadata": {},
   "source": [
    "> d) (0.2 points) **t** = pi(**s** + 4) (element wise multiplication)"
   ]
  },
  {
   "cell_type": "code",
   "execution_count": 5,
   "metadata": {},
   "outputs": [
    {
     "name": "stdout",
     "output_type": "stream",
     "text": [
      "[326.72563597 322.95572479 319.1858136  315.41590242 311.64599124]\n"
     ]
    }
   ],
   "source": [
    "##Answer to question 1.1.1d\n",
    "t = np.pi * (s + 4)\n",
    "print(t)"
   ]
  },
  {
   "cell_type": "markdown",
   "metadata": {},
   "source": [
    "> e) (0.2 points) **z** = **z** - 1"
   ]
  },
  {
   "cell_type": "code",
   "execution_count": 6,
   "metadata": {},
   "outputs": [
    {
     "name": "stdout",
     "output_type": "stream",
     "text": [
      "[-0.3  0.   0.3  0.6  0.9  1.2  1.5  1.8]\n"
     ]
    }
   ],
   "source": [
    "##Answer to question 1.1.1e\n",
    "z -= 1\n",
    "print(z)"
   ]
  },
  {
   "cell_type": "markdown",
   "metadata": {},
   "source": [
    "> f) (0.2 points) replace some values of x, such that the last three values in the vector are 4"
   ]
  },
  {
   "cell_type": "code",
   "execution_count": 7,
   "metadata": {},
   "outputs": [
    {
     "name": "stdout",
     "output_type": "stream",
     "text": [
      "[6 7 8 9 4 4 4]\n"
     ]
    }
   ],
   "source": [
    "##Answer to question 1.1.1f\n",
    "x[-3:] = 4\n",
    "print(x)"
   ]
  },
  {
   "cell_type": "markdown",
   "metadata": {},
   "source": [
    "> g) (0.2 points) **r** = 2**w** - 5"
   ]
  },
  {
   "cell_type": "code",
   "execution_count": 8,
   "metadata": {},
   "outputs": [
    {
     "name": "stdout",
     "output_type": "stream",
     "text": [
      "[-3. -3. -5. -4. -3. -2. -1. -5. -5.]\n"
     ]
    }
   ],
   "source": [
    "##Answer to question 1.1.1g\n",
    "r = 2 * w - 5\n",
    "print(r)"
   ]
  },
  {
   "cell_type": "markdown",
   "metadata": {},
   "source": [
    "**1.1.2** (0.25 points) Generate these matrices:\n",
    "\n",
    "\\begin{equation}\n",
    "     \\textbf{M} = \\begin{pmatrix} \n",
    "         1 & 2 & 3 \\\\\n",
    "         6 & 8 & 4 \\\\\n",
    "         6 & 7 & 5          \n",
    "         \\end{pmatrix}\n",
    "     \\textbf{N} = \\begin{pmatrix} \n",
    "         4 & 6 \\\\\n",
    "         7 & 2 \\\\\n",
    "         5 & 1\n",
    "         \\end{pmatrix}\n",
    "     \\textbf{P} = \\begin{pmatrix} \n",
    "         2 & 5 \\\\\n",
    "         5 & 5 \n",
    "         \\end{pmatrix}   \n",
    "\\end{equation}\n",
    "\n",
    "Afterwards try and compute the operations for subquestions *a* up to and including *e* and print the resulting matrix. If some operations yield errors, give the reason as to why that happens.\n",
    "\n",
    "*A hint: NumPy has functions for matrix operations you can, and should, use! For instance, * **M\\*N** * should be calculated with NumPy's `dot` product.*"
   ]
  },
  {
   "cell_type": "code",
   "execution_count": 9,
   "metadata": {},
   "outputs": [
    {
     "name": "stdout",
     "output_type": "stream",
     "text": [
      "[[1 2 3]\n",
      " [6 8 4]\n",
      " [6 7 5]]\n",
      "[[4 6]\n",
      " [7 2]\n",
      " [5 1]]\n",
      "[[2 5]\n",
      " [5 5]]\n"
     ]
    }
   ],
   "source": [
    "##Generate the matrices using Python and NumPy\n",
    "M = np.array([[1, 2, 3], [6, 8, 4], [6, 7, 5]])\n",
    "N = np.array([[4, 6], [7, 2], [5, 1]])\n",
    "P = np.array([[2, 5], [5, 5]])\n",
    "\n",
    "print(M)\n",
    "print(N)\n",
    "print(P)"
   ]
  },
  {
   "cell_type": "markdown",
   "metadata": {},
   "source": [
    "> a. (0.2 points) **A** = **MN** + **N**"
   ]
  },
  {
   "cell_type": "code",
   "execution_count": 10,
   "metadata": {},
   "outputs": [
    {
     "name": "stdout",
     "output_type": "stream",
     "text": [
      "[[ 37  19]\n",
      " [107  58]\n",
      " [103  56]]\n"
     ]
    }
   ],
   "source": [
    "##Answer to question 1.1.2a\n",
    "A = np.matmul(M, N) + N\n",
    "print(A)"
   ]
  },
  {
   "cell_type": "markdown",
   "metadata": {},
   "source": [
    "> b. (0.2 points) **B** = **N**<sup>T</sup>**M**"
   ]
  },
  {
   "cell_type": "code",
   "execution_count": 11,
   "metadata": {},
   "outputs": [
    {
     "name": "stdout",
     "output_type": "stream",
     "text": [
      "[[76 99 65]\n",
      " [24 35 31]]\n"
     ]
    }
   ],
   "source": [
    "##Answer to question 1.1.2b\n",
    "B = np.matmul(np.transpose(N), M)\n",
    "print(B)"
   ]
  },
  {
   "cell_type": "markdown",
   "metadata": {},
   "source": [
    "> c. (0.2 points) **C** = **P**<sup>-1</sup> + **P**"
   ]
  },
  {
   "cell_type": "code",
   "execution_count": 12,
   "metadata": {},
   "outputs": [
    {
     "name": "stdout",
     "output_type": "stream",
     "text": [
      "[[1.66666667 5.33333333]\n",
      " [5.33333333 4.86666667]]\n"
     ]
    }
   ],
   "source": [
    "##Answer to question 1.1.2c\n",
    "C = np.linalg.inv(P) + P\n",
    "print(C)"
   ]
  },
  {
   "cell_type": "markdown",
   "metadata": {},
   "source": [
    "> d. (0.2 points) **D** = **AC**(**C** + **B**)"
   ]
  },
  {
   "cell_type": "code",
   "execution_count": 13,
   "metadata": {},
   "outputs": [],
   "source": [
    "##Answer to question 1.1.2d\n",
    "# D = np.matmul(A, np.matmul(C, C + B))\n",
    "# this yields an error - the shapes of C and B don't match up\n",
    "# print(D)"
   ]
  },
  {
   "cell_type": "markdown",
   "metadata": {},
   "source": [
    "> e. (0.2 points) Compute the eigenvalues and eigenvectors of **M**, **N**, and **P** (and print them)."
   ]
  },
  {
   "cell_type": "code",
   "execution_count": 14,
   "metadata": {},
   "outputs": [
    {
     "name": "stdout",
     "output_type": "stream",
     "text": [
      "eigenvalues: [14.26208735 -1.26208735  1.        ]\n",
      "eigenvectors:\n",
      "[[-0.25759308 -0.84234218  0.51507875]\n",
      " [-0.68324439  0.38109032 -0.71318597]\n",
      " [-0.68324439  0.38109032  0.47545731]]\n",
      "eigenvalues: [-1.72015325  8.72015325]\n",
      "eigenvectors:\n",
      "[[-0.80229293 -0.59693053]\n",
      " [ 0.59693053 -0.80229293]]\n"
     ]
    }
   ],
   "source": [
    "##Answer to question 1.1.2e\n",
    "eigens = [np.linalg.eig(matrix) for matrix in [M, P]] # N is not square, so formally has no eigenstuff\n",
    "for eigen in eigens:\n",
    "    print(f'eigenvalues: {eigen[0]}')\n",
    "    print(f'eigenvectors:\\n{eigen[1]}')"
   ]
  },
  {
   "cell_type": "markdown",
   "metadata": {},
   "source": [
    "# Intermezzo: proper scientific plotting practices \n",
    "\n",
    "**In this course and many others** you will be asked to make a lot of plots. If you've ever read an academic paper, you'll have noticed that besides axis labels, titles and legends, these also contain a figure description *for each plot*. The idea is that you can 'read' a figure without skimming through the text for the explanation. So these figure descriptions should contain\n",
    "\n",
    "1. A description in natural language explaining what we're looking at,\n",
    "2. references to the axis labels if these are not clear immediately, and\n",
    "3. provide a short answer to the question that it belongs to. \n",
    "\n",
    "### Examples:"
   ]
  },
  {
   "cell_type": "code",
   "execution_count": 15,
   "metadata": {
    "scrolled": false
   },
   "outputs": [
    {
     "data": {
      "text/plain": [
       "<Figure size 640x480 with 1 Axes>"
      ]
     },
     "metadata": {},
     "output_type": "display_data"
    },
    {
     "name": "stdout",
     "output_type": "stream",
     "text": [
      "Figure 1: an example of a simple plot. X axis shows the index of each element, the Y axis shows increasing numbers.\n"
     ]
    },
    {
     "data": {
      "text/plain": [
       "<Figure size 640x480 with 1 Axes>"
      ]
     },
     "metadata": {},
     "output_type": "display_data"
    },
    {
     "name": "stdout",
     "output_type": "stream",
     "text": [
      "Figure 2: an example of a slightly more complex plot, where we explicitely set the values on the X axis. X axis shows the index of each element, the Y axis shows increasing numbers.\n"
     ]
    },
    {
     "data": {
      "text/plain": [
       "<Figure size 800x800 with 6 Axes>"
      ]
     },
     "metadata": {},
     "output_type": "display_data"
    },
    {
     "name": "stdout",
     "output_type": "stream",
     "text": [
      "Figure 3: an example of a complex plot, which showcases some neat pretty stuff that matplotlib can do! Seaborn is a library that you can use to make your plots look nicer. Subplots are used to create multiple plots within the same figure. First I plotted some random black dots, and then I used the bar functions to plot the same information but more complicated. imshow can be used to plot your array as an image for easy inspection. Here, I created an image of blobs using random numbers and a gaussian blur filter. Histograms are nice for checking distributions, for instance, the distribution of gray values in an image containing blobs!\n"
     ]
    },
    {
     "name": "stderr",
     "output_type": "stream",
     "text": [
      "/usr/lib/python3.7/_collections_abc.py:841: MatplotlibDeprecationWarning: \n",
      "The examples.directory rcparam was deprecated in Matplotlib 3.0 and will be removed in 3.2. In the future, examples will be found relative to the 'datapath' directory.\n",
      "  self[key] = other[key]\n",
      "/usr/lib/python3.7/_collections_abc.py:841: MatplotlibDeprecationWarning: \n",
      "The savefig.frameon rcparam was deprecated in Matplotlib 3.1 and will be removed in 3.3.\n",
      "  self[key] = other[key]\n",
      "/usr/lib/python3.7/_collections_abc.py:841: MatplotlibDeprecationWarning: \n",
      "The text.latex.unicode rcparam was deprecated in Matplotlib 3.0 and will be removed in 3.2.\n",
      "  self[key] = other[key]\n",
      "/usr/lib/python3.7/_collections_abc.py:841: MatplotlibDeprecationWarning: \n",
      "The verbose.fileo rcparam was deprecated in Matplotlib 3.1 and will be removed in 3.3.\n",
      "  self[key] = other[key]\n",
      "/usr/lib/python3.7/_collections_abc.py:841: MatplotlibDeprecationWarning: \n",
      "The verbose.level rcparam was deprecated in Matplotlib 3.1 and will be removed in 3.3.\n",
      "  self[key] = other[key]\n"
     ]
    }
   ],
   "source": [
    "import matplotlib.pyplot as plt\n",
    "import numpy as np\n",
    "numbers = np.arange(100,1001,100)\n",
    "\n",
    "# Simple plot\n",
    "\n",
    "plt.plot(numbers)\n",
    "plt.xlabel('x axis')\n",
    "plt.ylabel('y axis')\n",
    "plt.title('Numbers')\n",
    "plt.show()\n",
    "print('Figure 1: an example of a simple plot. X axis shows the index of each element, the Y axis shows increasing numbers.')\n",
    "\n",
    "# a little more complex plot\n",
    "\n",
    "indices = np.arange(5,15)\n",
    "plt.scatter(indices,numbers)\n",
    "plt.xlabel('x axis')\n",
    "plt.ylabel('y axis')\n",
    "plt.title('Numbers')\n",
    "plt.show()\n",
    "print('Figure 2: an example of a slightly more complex plot, where we explicitely set the values on the X axis. X axis shows the index of each element, the Y axis shows increasing numbers.')\n",
    "\n",
    "\n",
    "# an incredibly unnecessary complex plot\n",
    "import seaborn as sns # nicer graphics\n",
    "sns.set_style('darkgrid')\n",
    "\n",
    "fig,ax = plt.subplots(3,2,figsize=(8,8)) # create 3 rows of 2 columns of subplots\n",
    "ax = ax.ravel()\n",
    "\n",
    "x = np.random.normal(0.1, 1,10) #10 numbers with a mean of 0.1 and a sigma of 1\n",
    "y = np.random.normal(1, 0.1,10) #10 numbers with a mean of 1 and a sigma of 0.1\n",
    "\n",
    "ax[0].plot(x,y,'k.') # k means black and . means it should plot dots. Similarly, 'r-' results in a red line and \n",
    "                    # 'b--' would result in a blue checkered line.\n",
    "ax[0].set_title('Random black dots using x and y as coords')\n",
    "ax[0].set_ylabel('Row 0 of subplots')\n",
    "ax[1].bar(range(0,10),x,color='orange') #the first argument tells plt where to place the bars, so range(0,10) just puts them on 0,..,9\n",
    "ax[1].set_title('Vertical bars of x values')\n",
    "\n",
    "ax[2].barh(range(0,10),y,color='darkblue')\n",
    "ax[2].set_title('Horizontal bars of y values')\n",
    "ax[2].set_ylabel('Row 1 of subplots')\n",
    "from scipy import ndimage \n",
    "\n",
    "im = np.zeros((28, 28)) # creates an 28x28 array of zeros\n",
    "points = 28 * np.random.random((2, 3 ** 2)) # creates 28 random (x,y) pairs that we will use as indices\n",
    "im[(points[0]).astype(np.int), (points[1]).astype(np.int)] = 1 # sets the value at those indices to 1\n",
    "im = ndimage.gaussian_filter(im, sigma=28 / (4. * 3)) # puts the array through an image filter that \n",
    "                                                        # blurs the 0's and 1's together\n",
    "blobs = (im > im.mean())*255 # seperates them back into 0's and 1's after blurring \n",
    "\n",
    "ax[3].imshow(blobs,cmap='gray') # plots the array as an image, where each pixel corresponds to a 0 or 1 in our array\n",
    "ax[3].set_title('Blobs in black and white')\n",
    "\n",
    "ax[4].hist(im.ravel(), bins=12,color='green',rwidth=0.9) # plot the gray values from the array in a histogram with 12 bins\n",
    "ax[4].set_title('Distribution of grayvalues')\n",
    "ax[4].set_ylabel('Row 2 of subplots')\n",
    "ax[4].set_xlabel('Column 0 of subplots')\n",
    "ax[5].hist(im.ravel(),bins=12, cumulative=True, color='orange',rwidth=0.9,alpha=0.8,label='summed') # plot a see through \n",
    "                                                                                # cumulative histogram with alpha\n",
    "ax[5].hist(im.ravel(), bins=12,color='green',rwidth=0.9,alpha=0.7,label='values') # plot the gray values from the array in a histogram with 12 bins\n",
    "ax[5].set_title('(Cumulative) Distribution of grayvalues')\n",
    "ax[5].legend()\n",
    "ax[5].set_xlabel('Column 1 of subplots')\n",
    "plt.tight_layout() # makes sure everything fits without overlapping -- try running this cell without this to see the effect\n",
    "\n",
    "plt.show()\n",
    "\n",
    "print('Figure 3: an example of a complex plot, which showcases some neat pretty stuff that matplotlib can do! Seaborn is a library that you can use to make your plots look nicer. Subplots are used to create multiple plots within the same figure. First I plotted some random black dots, and then I used the bar functions to plot the same information but more complicated. imshow can be used to plot your array as an image for easy inspection. Here, I created an image of blobs using random numbers and a gaussian blur filter. Histograms are nice for checking distributions, for instance, the distribution of gray values in an image containing blobs!')\n",
    "sns.reset_orig()"
   ]
  },
  {
   "cell_type": "markdown",
   "metadata": {},
   "source": [
    "## 1.2 Principal Component Analysis\n",
    "\n",
    "**1.2.1** many experimenters have a habit of using Microsoft Excel as their tool to record measurements from experiments. Fortunately Python can read Excel files. Various methods exist, of which the use of the Python library Pandas is arguably one of the easiest for the purpose of Data Mining.\n",
    "\n",
    "The data used in this exercise is based on data from a chemical sensor obtained from the NanoNose project[1]. The data contains 8 sensors, named by the letters A-H, measuring the concentration of Water, Ethanol, Acetone, Heptane and Pentanol injected into a small gas chamber. The data will be represented in matrix form such that each column contains the 8 sensor measurements (i.e., sensor A-H) of the various compounds injected into the gas chamber.\n",
    "> a. (0.2 points) Inspect the nanonose.xls file in the Data folder and make sure you understand how the data is stored in Excel.\n",
    "\n",
    "> *Load the data in python using the Pandas library (use the `read_excel()` function). Make sure you read some of the Pandas documentation! Especially (column) slicing, (row) indexing and dropping are useful commands to get the correct data here.*\n",
    "\n",
    "> *Make sure to inspect the data first. **You should cut out some rows and columns! You can easily inspect the structure of the Pandas dataframe by printing the `head()` function.***\n",
    "\n",
    "> *You should see the 8 columns named A-H and the first 5 rows by printing `head()`.*\n",
    "\n",
    "> *Finally use the `.values` function to cast the Pandas dataframe to a NumPy array called **X**. *"
   ]
  },
  {
   "cell_type": "code",
   "execution_count": 16,
   "metadata": {},
   "outputs": [
    {
     "data": {
      "text/html": [
       "<div>\n",
       "<style scoped>\n",
       "    .dataframe tbody tr th:only-of-type {\n",
       "        vertical-align: middle;\n",
       "    }\n",
       "\n",
       "    .dataframe tbody tr th {\n",
       "        vertical-align: top;\n",
       "    }\n",
       "\n",
       "    .dataframe thead th {\n",
       "        text-align: right;\n",
       "    }\n",
       "</style>\n",
       "<table border=\"1\" class=\"dataframe\">\n",
       "  <thead>\n",
       "    <tr style=\"text-align: right;\">\n",
       "      <th></th>\n",
       "      <th>Sample type</th>\n",
       "      <th>Concentration</th>\n",
       "      <th>A</th>\n",
       "      <th>B</th>\n",
       "      <th>C</th>\n",
       "      <th>D</th>\n",
       "      <th>E</th>\n",
       "      <th>F</th>\n",
       "      <th>G</th>\n",
       "      <th>H</th>\n",
       "    </tr>\n",
       "  </thead>\n",
       "  <tbody>\n",
       "    <tr>\n",
       "      <td>1</td>\n",
       "      <td>Water</td>\n",
       "      <td>9200</td>\n",
       "      <td>95.5</td>\n",
       "      <td>21.0</td>\n",
       "      <td>6.0</td>\n",
       "      <td>11.942308</td>\n",
       "      <td>64.134615</td>\n",
       "      <td>21.498560</td>\n",
       "      <td>5.567840</td>\n",
       "      <td>1.174135</td>\n",
       "    </tr>\n",
       "    <tr>\n",
       "      <td>2</td>\n",
       "      <td>Water</td>\n",
       "      <td>9200</td>\n",
       "      <td>94.5</td>\n",
       "      <td>17.0</td>\n",
       "      <td>5.0</td>\n",
       "      <td>5.484615</td>\n",
       "      <td>63.205769</td>\n",
       "      <td>19.658560</td>\n",
       "      <td>4.968000</td>\n",
       "      <td>1.883444</td>\n",
       "    </tr>\n",
       "    <tr>\n",
       "      <td>3</td>\n",
       "      <td>Water</td>\n",
       "      <td>9200</td>\n",
       "      <td>92.0</td>\n",
       "      <td>16.0</td>\n",
       "      <td>3.0</td>\n",
       "      <td>11.057692</td>\n",
       "      <td>62.586538</td>\n",
       "      <td>19.813120</td>\n",
       "      <td>5.192480</td>\n",
       "      <td>0.564835</td>\n",
       "    </tr>\n",
       "    <tr>\n",
       "      <td>4</td>\n",
       "      <td>Water</td>\n",
       "      <td>4600</td>\n",
       "      <td>53.0</td>\n",
       "      <td>7.5</td>\n",
       "      <td>2.5</td>\n",
       "      <td>3.538462</td>\n",
       "      <td>35.163462</td>\n",
       "      <td>6.876207</td>\n",
       "      <td>1.641724</td>\n",
       "      <td>0.144654</td>\n",
       "    </tr>\n",
       "    <tr>\n",
       "      <td>5</td>\n",
       "      <td>Water</td>\n",
       "      <td>4600</td>\n",
       "      <td>51.0</td>\n",
       "      <td>7.5</td>\n",
       "      <td>2.5</td>\n",
       "      <td>4.865385</td>\n",
       "      <td>34.057692</td>\n",
       "      <td>6.757241</td>\n",
       "      <td>1.613966</td>\n",
       "      <td>0.059663</td>\n",
       "    </tr>\n",
       "  </tbody>\n",
       "</table>\n",
       "</div>"
      ],
      "text/plain": [
       "  Sample type Concentration     A     B    C          D          E          F  \\\n",
       "1       Water          9200  95.5  21.0  6.0  11.942308  64.134615  21.498560   \n",
       "2       Water          9200  94.5  17.0  5.0   5.484615  63.205769  19.658560   \n",
       "3       Water          9200  92.0  16.0  3.0  11.057692  62.586538  19.813120   \n",
       "4       Water          4600  53.0   7.5  2.5   3.538462  35.163462   6.876207   \n",
       "5       Water          4600  51.0   7.5  2.5   4.865385  34.057692   6.757241   \n",
       "\n",
       "          G         H  \n",
       "1  5.567840  1.174135  \n",
       "2  4.968000  1.883444  \n",
       "3  5.192480  0.564835  \n",
       "4  1.641724  0.144654  \n",
       "5  1.613966  0.059663  "
      ]
     },
     "execution_count": 16,
     "metadata": {},
     "output_type": "execute_result"
    }
   ],
   "source": [
    "import pandas as pd\n",
    "\n",
    "data = pd.read_excel('./Data/nanonose.xls')\n",
    "rename_dict = {data.columns[i]: data.loc[0][i] for i in [0, 1]}\n",
    "data.rename(columns=rename_dict, inplace=True)\n",
    "data = data.drop(0, axis=0).drop(data.columns[2], axis=1)\n",
    "X = data.values[:,2:].astype(float)\n",
    "\n",
    "data.head()"
   ]
  },
  {
   "cell_type": "markdown",
   "metadata": {},
   "source": [
    "> b. (0.3 points) The data resides in what can be seen as an 8-dimensional space. Each dimension (column), corresponds to one of the 8 NanoNose sensors. Multidimensional (>3) data is hard to visualize, as we are unable to plot that many dimensions simultaneously.\n",
    "\n",
    "> Using the `matplotlib.pyplot` library, plot the attributes A and B against each other. After you have plotted A against B, also plot a few other combinations of attributes. Plot at least 4 different combinations. \n",
    "\n",
    "> *Do not forget to label your axes and add a figure description!*\n",
    "\n",
    "> NOTE: If you want to plot inside the Jupyter notebook without calling `plt.show()` after each plot, use the following command after you imported the `matplotlib.pyplot` library: \n",
    "*%matplotlib inline* "
   ]
  },
  {
   "cell_type": "code",
   "execution_count": 17,
   "metadata": {},
   "outputs": [
    {
     "data": {
      "image/png": "[encoded data removed]",
      "text/plain": [
       "<Figure size 432x288 with 1 Axes>"
      ]
     },
     "metadata": {
      "needs_background": "light"
     },
     "output_type": "display_data"
    },
    {
     "data": {
      "image/png": "[encoded data removed]",
      "text/plain": [
       "<Figure size 432x288 with 1 Axes>"
      ]
     },
     "metadata": {
      "needs_background": "light"
     },
     "output_type": "display_data"
    },
    {
     "data": {
      "image/png": "[encoded data removed]",
      "text/plain": [
       "<Figure size 432x288 with 1 Axes>"
      ]
     },
     "metadata": {
      "needs_background": "light"
     },
     "output_type": "display_data"
    },
    {
     "data": {
      "image/png": "[encoded data removed]",
      "text/plain": [
       "<Figure size 432x288 with 1 Axes>"
      ]
     },
     "metadata": {
      "needs_background": "light"
     },
     "output_type": "display_data"
    }
   ],
   "source": [
    "import matplotlib.pyplot as plt\n",
    "\n",
    "def scatter_plot(sensor1, sensor2):\n",
    "    plt.scatter(getattr(data, sensor1), getattr(data, sensor2), alpha=.5)\n",
    "    plt.xlabel(sensor1)\n",
    "    plt.ylabel(sensor2)\n",
    "    plt.title(f'Co-plot for measurements of {sensor1} and {sensor2}')\n",
    "    plt.show()\n",
    "\n",
    "scatter_plot('A', 'B')\n",
    "scatter_plot('A', 'C')\n",
    "scatter_plot('A', 'D')\n",
    "scatter_plot('A', 'E')"
   ]
  },
  {
   "cell_type": "markdown",
   "metadata": {},
   "source": [
    "\n",
    "1.2.2 Principal Component Analysis, more commonly known as PCA, can be used to visualize high dimensional data. \n",
    "\n",
    "> a. (1 point) Explain what PCA is and when it can be used. Make sure to provide an in-depth explanation and note what the drawbacks and limitations are."
   ]
  },
  {
   "cell_type": "markdown",
   "metadata": {},
   "source": [
    "PCA is a way of decorrelating variables, which also yields the relative \"importance\" of dimensions: the first prinicpal component (resulting dimension) is the one in which the data varies the most. PCA is an orthogonal linear transformation, meaning that it preserves the distances and angles between datapoints - essentially, one can think of it as the combination of a rotation and/or reflection.\n",
    "\n"
   ]
  },
  {
   "cell_type": "markdown",
   "metadata": {},
   "source": [
    "To apply PCA we must first mean center the data. Mean centering means that the mean value for an attribute (i.e. a column) is subtracted from all values for that attribute. \n",
    "\n",
    "> b. (0.5 points) Why do we first need to mean center the data before applying PCA?"
   ]
  },
  {
   "cell_type": "markdown",
   "metadata": {},
   "source": [
    "If we didn't mean-center the data, the most \"important\" axis would be the one on which the data deviates from zero - for example, if all of our 2D data has x values around 0, but y values around 5, the first principal component would essentially be the y axis - because, indeed, if we were to remove it, we would lose the most information about the data.\n",
    "\n",
    "On the other hand, if we do mean-center the data, we will be able to focus on the inter-variable dependencies."
   ]
  },
  {
   "cell_type": "markdown",
   "metadata": {},
   "source": [
    "In practice, applying PCA comes down to a series of matrix operations, this is useful, as matrix operations can be applied with little effort and can be computed in relatively little time.\n",
    "\n",
    "The given data **X** must first be mean centered. This can be easily done by calculating a row vector **μ** containing the mean values of each attribute. Then you can subtract **μ** from **X** (**Y** = **X** - **μ**, where **μ** is subtracted from every row.).\n",
    "\n",
    "Then, the Singular Value Decomposition (or SVD) of **Y**, the now mean centered data, can be calculated. **Y** = **USV**<sup>T</sup>. In practice, this is often done using the `numpy.linalg.svd()` function.\n",
    "\n",
    "Using SVD on **Y** yields 3 matrices **U**, **S** and **V**<sup>T</sup>. These are used to project the data onto specific Principal Components (PCs). \n",
    "\n",
    "The entire dataset can be projected onto the Principal Components by multiplying **Z** = **Y\\*V**, where **Z** indicates the projected data, and **Z[:,0]** indicates the data projected onto the first PC. Alternatively, one could project onto just a subset of all the PCs by indexing in the multiplication. For example: **Z** = **Y\\*V[:,0]** would also yield the projection of the data onto the first PC.\n",
    "\n",
    "_Note that for matrices, the notation **Y\\*V** denotes the `dot` product between **Y** and **V**!_\n",
    "\n",
    "> c. (1 point)  Apply PCA (using the aforementioned method) on the Nanonose data and visualize a scatterplot of the projection of the data onto the first two PCs."
   ]
  },
  {
   "cell_type": "code",
   "execution_count": 27,
   "metadata": {},
   "outputs": [
    {
     "data": {
      "text/plain": [
       "array([[ 9.46526667, 20.32723426, 10.49826759, 23.43004173, 27.7141458 ,\n",
       "        15.32181649, 16.02610424, 20.09403086]])"
      ]
     },
     "execution_count": 27,
     "metadata": {},
     "output_type": "execute_result"
    }
   ],
   "source": [
    "means = np.mean(X, axis=0)\n",
    "means = np.reshape(means, (1, -1)) # make it a row vector\n",
    "means"
   ]
  },
  {
   "cell_type": "markdown",
   "metadata": {},
   "source": [
    "> d. (1 point) Alternatively, one could use EigenValue Decomposition, EVD, instead of SVD. What are the similarities and differences between SVD and EVD? Can both be applied in each case?"
   ]
  },
  {
   "cell_type": "markdown",
   "metadata": {},
   "source": [
    "---\n",
    "\n",
    "_write your answer to 1.2.2 here_\n",
    "\n",
    "---"
   ]
  },
  {
   "cell_type": "markdown",
   "metadata": {},
   "source": [
    "PCA attempts to explain as much of the variance in data with as few PCs as possible. The variance explained by each of the PCs **m** can be calculated using the following formula: \n",
    "$$\\rho_m = 1 - \\frac{\\|{Y} - {u}_m s_{mm} {v}_m^T\\|^2_F}{\\|{Y}\\|^2_F} = \\frac{s_{mm}^2}{\\displaystyle \\sum_{m'=1}^M s^2_{m'm'}}$$\n",
    "\n",
    "Which indicates that the variation $\\rho$ for a given **m** can be calculated by dividing the squared singular value of component **m** by the sum of all squared singular values. \n",
    "> e. (1 point) Calculate the row vector $\\rho$ containing all values of $\\rho$ for all PCs **m**. Create a bar plot with the variance explained on the Y axis and the number of the PC on the X axis. "
   ]
  },
  {
   "cell_type": "code",
   "execution_count": null,
   "metadata": {},
   "outputs": [],
   "source": []
  },
  {
   "cell_type": "markdown",
   "metadata": {},
   "source": [
    "> f. (0.5 points) How much of the variance is explained by the first three PCs?"
   ]
  },
  {
   "cell_type": "code",
   "execution_count": null,
   "metadata": {},
   "outputs": [],
   "source": []
  },
  {
   "cell_type": "markdown",
   "metadata": {},
   "source": [
    "The columns of **V** indicate the exact projection of the data onto the PCs. In a way, a PC is nothing other than a linear combination of the original attributes. \n",
    "> g. (0.5 points) Which attributes are primarily represented by the first PC? What would cause an observation to have a large negative/positive projection onto the second principal component?"
   ]
  },
  {
   "cell_type": "code",
   "execution_count": null,
   "metadata": {},
   "outputs": [],
   "source": []
  },
  {
   "cell_type": "markdown",
   "metadata": {},
   "source": [
    "----\n",
    "_write your answer to 1.2.2 here_\n",
    "\n",
    "-----\n"
   ]
  },
  {
   "cell_type": "markdown",
   "metadata": {},
   "source": [
    "## 1.3 Similarity measures\n",
    "\n",
    "We will use a subset of the data on wild faces described by Berg in 2005 transformed to a total\n",
    "of 1000 grayscale images of size 40x40 pixels, we will attempt to find faces in the\n",
    "data base that are the most similar to a given query face. To measure similarity we\n",
    "will consider the following measures: SMC, Jaccard, Cosine, ExtendedJaccard, and\n",
    "Correlation. These measures of similarity are described in *Introduction to Data Mining*, page 73-77 and are given by\n",
    "\n",
    "\\begin{eqnarray*}\n",
    "\\textrm{SMC}({x},{y}) & = & \\frac{\\textrm{Number of matching attribute values}}{\\textrm{Number of attributes}} \\\\\n",
    "\\textrm{Jaccard}({x},{y}) & = & \\frac{\\textrm{Number of matching presences}}{\\textrm{Number of attributes not involved in 00 matches}} \\\\\n",
    "\\textrm{Cosine}({x},{y}) & = & \\frac{{x}^T {y}}{\\|{x}\\| \\|{y}\\|} \\\\\n",
    "\\textrm{ExtendedJaccard}({x},{y}) & = & \\frac{{x}^T {y}}{\\|{x}\\|^2 + \\|{y}\\|^2 - {x}^T {y}} \\\\\n",
    "\\textrm{Correlation}({x},{y}) & = & \\frac{\\textrm{cov}({x},{y})}{\\textrm{std}({x}) \\textrm{std}({y})}\n",
    "\\\\\n",
    "\\end{eqnarray*}\n",
    "<br>where $\\textrm{cov}({x},{y})$ denotes the covariance between ${x}$ and ${y}$ and $\\textrm{std}({x})$ denotes the standard deviation of ${x}$.\n",
    "\n",
    "Notice that the SMC and Jaccard similarity measures only are defined for binary data, i.e., data that takes values in $\\{0,1\\}$. As the data we analyze is non-binary, the script will transform the data to be binary when calculating these two measures of similarity by setting\n",
    "\n",
    "$$x_i = \\left\\{ \\begin{array}{ll} 0 & \\textrm{if~} x_i < \\textrm{median}({x}) \\\\\n",
    "                                1 & \\textrm{otherwise.} \\end{array} \\right.$$\n",
    "                                \n",
    "### 1.3.1\n",
    "> a) (0.5 points) Inspect and run the simfaces function from the Toolbox. The function loads the CBCL face database, computes the similarity between a selected query image and all others, and display the query image, the 5 most similar images, and the 5 least similar images. The value of the used similarity measure is shown below each image. Try changing the query image and the similarity measure and see what happens. Which similarity measures produce similar results? Which one gives the best result? Why?\n",
    "\n",
    "> Give a quick overview of the settings (image number and similarity measure) for each time you run the script. Remember to leave results open!\n",
    "\n"
   ]
  },
  {
   "cell_type": "code",
   "execution_count": null,
   "metadata": {},
   "outputs": [],
   "source": []
  },
  {
   "cell_type": "markdown",
   "metadata": {},
   "source": [
    "----\n",
    "\n",
    "_write your answer to 1.3.1 here_\n",
    "\n",
    "----\n"
   ]
  },
  {
   "cell_type": "markdown",
   "metadata": {},
   "source": [
    "\n",
    "> b) (0.75 points) We will investigate how scaling and translation impact the following three\n",
    "similarity measures: Cosine, ExtendedJaccard, and Correlation. Let **x** and **y** be two small vectors of the same size. Let $\\alpha$ and $\\beta$ be two constants. You can generate these randomly or set them as you see fit. Using Python, calculate the following similarity measures, and check if the statements below are correct.\n",
    "\n",
    "\\begin{eqnarray*}\n",
    "\\textrm{Cosine}(\\alpha{x},{y}) & = & \\textrm{Cosine}({x},{y}) \\\\\n",
    "\\textrm{ExtendedJaccard}(\\alpha{x},{y}) & = & \\textrm{ExtendedJaccard}({x},{y}) \\\\\n",
    "\\textrm{Correlation}(\\alpha{x},{y}) & = & \\textrm{Correlation}({x},{y}) \\\\\n",
    "\\textrm{Cosine}(\\beta + {x},{y}) & = & \\textrm{Cosine}({x},{y}) \\\\\n",
    "\\textrm{ExtendedJaccard}(\\beta + {x},{y}) & = & \\textrm{ExtendedJaccard}({x},{y}) \\\\\n",
    "\\textrm{Correlation}(\\beta + {x},{y}) & = & \\textrm{Correlation}({x},{y})\n",
    "\\end{eqnarray*}\n",
    "\n",
    "> Type `help similarity` or study `similarity.py` to learn about the function that is used to compute the similarity measures. Do not forget to also import similarity.py!\n",
    "\n",
    "> Even though a similarity measure is theoretically invariant e.g.\\ to scaling, it might not be exactly invariant numerically.\n",
    "\n",
    "> Do not forget to also provide an explanation in addition to the calculations!\n"
   ]
  },
  {
   "cell_type": "code",
   "execution_count": null,
   "metadata": {},
   "outputs": [],
   "source": []
  },
  {
   "cell_type": "markdown",
   "metadata": {},
   "source": [
    "---\n",
    "\n",
    "_write your answer to 1.3.1 here_\n",
    "\n",
    "---"
   ]
  }
 ],
 "metadata": {
  "kernelspec": {
   "display_name": "Python 3",
   "language": "python",
   "name": "python3"
  },
  "language_info": {
   "codemirror_mode": {
    "name": "ipython",
    "version": 3
   },
   "file_extension": ".py",
   "mimetype": "text/x-python",
   "name": "python",
   "nbconvert_exporter": "python",
   "pygments_lexer": "ipython3",
   "version": "3.7.4"
  },
  "varInspector": {
   "cols": {
    "lenName": 16,
    "lenType": 16,
    "lenVar": 40
   },
   "kernels_config": {
    "python": {
     "delete_cmd_postfix": "",
     "delete_cmd_prefix": "del ",
     "library": "var_list.py",
     "varRefreshCmd": "print(var_dic_list())"
    },
    "r": {
     "delete_cmd_postfix": ") ",
     "delete_cmd_prefix": "rm(",
     "library": "var_list.r",
     "varRefreshCmd": "cat(var_dic_list()) "
    }
   },
   "position": {
    "height": "790px",
    "left": "827px",
    "right": "20px",
    "top": "64px",
    "width": "800px"
   },
   "types_to_exclude": [
    "module",
    "function",
    "builtin_function_or_method",
    "instance",
    "_Feature"
   ],
   "window_display": false
  }
 },
 "nbformat": 4,
 "nbformat_minor": 2
}
