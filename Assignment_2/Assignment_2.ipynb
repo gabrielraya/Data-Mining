{
 "cells": [
  {
   "cell_type": "markdown",
   "metadata": {},
   "source": [
    "# Assignment 2\n",
    "\n",
    "## Objective of this assignment\n",
    "The objective of this assignment is to get an understanding of the many ways data can be visualized. Upon completing this exercise you should be familiar with histograms, boxplots and scatter plots.\n",
    "\n",
    "\n",
    "## ** Important: ** When handing in your homework:\n",
    "+ Hand in the notebook **and nothing else** named as follows: StudentName1_snumber_StudentName2_snumber.ipynb\n",
    "+ **From this week on, we will deduct a point if you zip/tar/archive the notebook, especially if you include the data folder!** \n",
    "+ Provide clear and complete answers to the questions below under a separate header (not hidden somewhere in your source code), and make sure to explain your answers / motivate your choices. Add Markdown cells where necessary.\n",
    "+ Source code, output graphs, derivations, etc., should be included in the notebook.\n",
    "+ Hand-in: upload to Brightspace.\n",
    "+ Include name, student number, assignment (especially in filenames)!\n",
    "+ When working in pairs only one of you should upload the assignment, and report the name of your partner in your filename.\n",
    "+ Use the Brightspace discussion board or email the student assistants for questions on how to complete the exercises.\n",
    "+ If you find mistakes/have suggestions/would like to complain about the assigment material itself, please email me [Lisa] at `l.tostrams@science.ru.nl`\n",
    "\n",
    "\n",
    "## Advised Reading and Exercise Material\n",
    "**The following reading material is recommended:**\n",
    "\n",
    "- Pang-Ning Tan, Michael Steinbach, and Vipin Kumar, *Introduction to Data Mining*, section 3.3\n",
    "- Jonathon Shlens, *A tutorial on Principal Component Analysis* , https://arxiv.org/abs/1404.1100\n",
    "\n",
    "\n",
    "## 2.1 Visualizing wine data (4.5 points)\n",
    "\n",
    "In this part of the exercise we will consider two data sets related to red and white variants of the Portuguese \"Vinho Verde\" wine[1]. The data has been downloaded from http://archive.ics.uci.edu/ml/datasets/Wine+Quality. Only physicochemical and sensory attributes are available, i.e., there is no data about grape types, wine brand, wine selling price, etc. The data has the following attributes:\n",
    "\n",
    "| #   |  Attribute      | Unit |\n",
    "| --- |:--------------- |:---- |\n",
    "| 1   | Fixed acidity (tartaric) | g/dm3 |\n",
    "| 2   | Volatile acidity (acetic) | g/dm3 |\n",
    "| 3   | Citric acid | g/dm3 |\n",
    "| 4   | Residual sugar | g/dm3 |\n",
    "| 5   | Chlorides | g/dm3 |\n",
    "| 6   | Free sulfur dioxide | mg/dm3 |\n",
    "| 7   | Total sulfur dioxide | mg/dm3 |\n",
    "| 8   | Density | g/cm3 |\n",
    "| 9   | pH | pH |\n",
    "| 10  | Sulphates | g/dm3 |\n",
    "| 11  | Alcohol | % vol. |\n",
    "| 12  | Quality score | 0-10 |\n",
    "\n",
    "Attributes 1-11 are based on physicochemical tests and attribute 12 on human judging. The data set has many observations that can be considered outliers and in order to carry out analyses it is important to remove the corrupt observations.\n",
    "\n",
    "The aim of this exercise is to use visualization to identify outliers and remove these outliers from the data. It might be necessary to remove some outliers before other outlying observations become visible. Thus, the process of finding and removing outliers is often iterative. The wine data is stored in a MATLAB file, `Data/wine.mat`\n",
    "\n",
    "*This exercise is based upon material kindly provided by the Cognitive System Section, DTU Compute,\n",
    "http://cogsys.compute.dtu.dk. Any sale or commercial distribution is strictly forbidden.*\n",
    "\n",
    "> 2.1.1a) (3pts)\n",
    "1. Load the data into Python using the `scipy.io.loadmat()` function. \n",
    "2. This data set contains many observations that can be considered outliers. Plot a box plot and a histogram for each attribute to visualize the outliers in the data set. Use subplotting to nicely visualize these plots.\n",
    "3. From prior knowledge we expect volatile acidity to be around 0-2 g/dm3, density to be close to 1 g/cm3, and alcohol percentage to be somewhere between 5-20% vol. We can safely identify the outliers for these attributes, searching for the values, which are a factor of 10 greater than the largest we expect. Identify outliers for volatile acidity, density and alcohol percentage, and remove them from the data set. This means that you should remove the entire sample from the dataset, not just for that attribute!\n",
    "4. Plot new box plots and histograms for these attributes and compare them with initial ones.\n",
    "\n",
    "> \n",
    " + *You can use the `scipy.stats.zscore()` to standardize your data before you plot a boxplot.*\n",
    " + *You can use logical indexing to easily make a new dataset (for example $X\\_filtered$, where the outliers are removed. This is much easier, and faster than methods like dropping, or selecting using a for loop or list comprehension. For more information, see: https://docs.scipy.org/doc/numpy-1.13.0/user/basics.indexing.html Take a look at the -Boolean or \"mask\" index arrays- section.*\n",
    " + *You can use the function `matplotlib.pyplot.subplots()` to plot several plots in one figure. A simple example an be found at: https://matplotlib.org/2.0.2/examples/pylab_examples/subplots_demo.html, take a look at the 2D subplot specifically. There is also an example of a subplot in the first assignment. If you're handy, you can devise a for loop which fills up the subplot area!* \n",
    " + *The object in wine.mat is a dictionary. The attributes are stored in matrix $X$. Attribute names and class names are stored in the attributeNames object, which contain arrays, of which the first element contains the names*\n",
    "\n",
    "**Make sure to take a look at the documentation of functions before you try and use them!**\n"
   ]
  },
  {
   "cell_type": "code",
   "execution_count": null,
   "metadata": {},
   "outputs": [],
   "source": []
  },
  {
   "cell_type": "markdown",
   "metadata": {
    "collapsed": true
   },
   "source": [
    "----\n",
    "\n",
    "\n",
    "----"
   ]
  },
  {
   "cell_type": "markdown",
   "metadata": {},
   "source": [
    "> 2.1.1b (0.5pts)\n",
    "Why do we need to standardize the data after removing the outliers? Give the -statistical- reason, not just the practical reason. "
   ]
  },
  {
   "cell_type": "markdown",
   "metadata": {},
   "source": [
    "----\n",
    "\n",
    "If we didn't, the potentially huge differences in variance between dimensions could cause some data mining algorithms to \"pay too much attention\" to these dimensions. Additionally, we wouldn't want a simple manipulation of the input data (such as giving win ea rating from 1 to 5 instead from 0 to 10) to affect the result.\n",
    "\n",
    "----"
   ]
  },
  {
   "cell_type": "markdown",
   "metadata": {},
   "source": [
    "> 2.1.2 (1pt) Make scatter plots between attributes and wine quality as rated by human judges. Can you manually identify any clear relationship between the attributes of the wine and wine quality? Which values of these attributes are associated with high quality wine? Use the correlation coefficients to substantiate your answers. Make sure to use the data where the outliers are removed \n",
    "+ *You can calculate the correlation coefficient using the `scipy.stats.pearsonr()` function to measure the strength of association.*"
   ]
  },
  {
   "cell_type": "code",
   "execution_count": null,
   "metadata": {},
   "outputs": [],
   "source": []
  },
  {
   "cell_type": "markdown",
   "metadata": {
    "collapsed": true
   },
   "source": [
    "----\n",
    "\n",
    "\n",
    "----"
   ]
  },
  {
   "cell_type": "markdown",
   "metadata": {
    "collapsed": true
   },
   "source": [
    "## 2.2 Visualizing the handwritten digits (4 points)\n",
    "\n",
    "In this part of the exercise we will analyse the famous *mnist* handwritten digit dataset from: http://yann.lecun.com/exdb/mnist/.\n",
    "\n",
    "> 2.2.1 (4pts)\n",
    "1. Load zipdata.mat by using the loadmat function. There are two data sets containing handwritten digits: *testdata* and *traindata*. Here, we will only use *traindata*. The first column in the matrix *traindata* contains the digit (class) and the last 256 columns contain the pixel values.\n",
    "2. Create the data matrix *X* and the class index vector *y* from the data. Remove\n",
    "the digits with the class index 2-9 from the data, so only digits belonging to\n",
    "the class 0 and 1 are analyzed. (remember logical indexing!) \n",
    "3. Visualize the first 10 digits as images. (take a look at the example code)\n",
    "Next, compute the principal components (PCA) of the data matrix. Now, using the PCA model, create a new data matrix $Z$ by projecting $X$ onto the space spanned by the loadings $V$. The new data matrix should have 4 attributes corresponding to PC1-PC4.  Use subplotting to show the digits and their reconstructed counterparts in an orderly manner.\n",
    "4. Reconstruct the initial data using PC1-PC4 into a new matrix called $W$. Visualize the first 10 digits as images for the reconstructed data and compare them with images for the original data.\n",
    "5. Make a 4-by-4 subplot of scatter plots of each possible combination projection onto PC1 to PC4 (contained in $Z$) against each other. You can leave the diagonal blank.  Plot elements belonging to different classes in different colors. Add a legend to clarify which digit is shown in which color.\n",
    "6. Make a 3-dimensional scatter plot of the projections onto the first three principal components PC1-PC3 (contained in $Z$). Plot elements belonging to different classes in different colors. Add a legend to clarify which digit is shown in which color.\n",
    "7. What can you conclude from the various scatterplots about the PCs and the way they separate the data?\n",
    "\n",
    "> **Hints:**\n",
    "+ *The below example code can help you visualize digits as images.*\n",
    "+ *See Assignment 1 if you can not recall how to compute a PCA.*\n",
    "+ *Keep in mind that numpy.linalg.svd() returns the transposed **V<sup>T</sup>** matrix as output.*\n",
    "+ *You can use **Z** = **Y** $*$ **V**[:,:4] to project the data onto the first four PCs. Don't forget that the $*$ operator does not perform matrix multiplication for numpy arrays!*\n",
    "+ *To reconstruct the data from projection you can use the following formula: **W** = **Z**&ast;**V**[:,:4]<sup>T</sup> + **μ**. *\n",
    "+ *You can take a look at the example_figure.ipynb notebook to see how you can easily plot multiple classes and color them correspondingly.* \n",
    "+ *It is advisable to make a for-loop to generate the 2D scatter plots, this saves a lot of time. It is an important skill to master if you want to easily modify your work later on, for example when correcting mistakes, or when you want to modify each plot in the same manner.* \n"
   ]
  },
  {
   "cell_type": "code",
   "execution_count": 7,
   "metadata": {},
   "outputs": [],
   "source": [
    "import numpy as np\n",
    "import matplotlib.pyplot as plt\n",
    "import matplotlib.cm as cm\n",
    "from scipy.io import loadmat\n",
    "\n",
    "\n",
    "# load Matlab data file to python dict structure\n",
    "mat_data = loadmat('./Data/zipdata.mat')\n",
    "\n",
    "\n",
    "# extract variables of interest\n",
    "testdata = mat_data['testdata']\n",
    "traindata = mat_data['traindata']\n",
    "images = traindata[:,1:]\n",
    "labels = traindata[:,0]\n",
    "\n",
    "\n",
    "# keep only ones and zeros\n",
    "kept_indices = np.logical_or(labels == 0, labels == 1)\n",
    "images = images[kept_indices]\n",
    "labels = labels[kept_indices]\n",
    "assert len(images) == len(labels)\n",
    "\n",
    "\n",
    "def plot_images(images, plot_on=plt):\n",
    "    images = np.array(images)\n",
    "    fig, axes = plot_on.subplots(images.shape[0], images.shape[1], sharey=True)\n",
    "    axes = np.reshape(axes, (images.shape[0], images.shape[1]))\n",
    "    for axes_row, images_row in zip(axes, images):\n",
    "        for ax, image in zip(axes_row, images_row):\n",
    "            plot_image(image, plot_on=ax)\n",
    "\n",
    "def plot_image(image, plot_on=plt):\n",
    "    reshaped = np.reshape(image, (16, 16))\n",
    "    plot_on.imshow(reshaped, cmap=cm.gray_r)"
   ]
  },
  {
   "cell_type": "code",
   "execution_count": 8,
   "metadata": {},
   "outputs": [
    {
     "data": {
      "image/png": "[encoded data removed]",
      "text/plain": [
       "<Figure size 432x288 with 10 Axes>"
      ]
     },
     "metadata": {
      "needs_background": "light"
     },
     "output_type": "display_data"
    }
   ],
   "source": [
    "plot_images([images[:10]])\n",
    "plt.show()"
   ]
  },
  {
   "cell_type": "code",
   "execution_count": 3,
   "metadata": {},
   "outputs": [],
   "source": [
    "# it's PCA time!\n",
    "dimension_means = np.mean(images, axis=0)\n",
    "centered = images - dimension_means\n",
    "u, s, vt = np.linalg.svd(centered)\n",
    "projection_matrix = vt.T\n",
    "\n",
    "# disregard higher principal components\n",
    "projection_matrix = projection_matrix[:, :4]\n",
    "projected = np.matmul(centered, projection_matrix)\n",
    "reconstructed = np.matmul(projected, projection_matrix.T) + dimension_means"
   ]
  },
  {
   "cell_type": "code",
   "execution_count": 65,
   "metadata": {},
   "outputs": [
    {
     "data": {
      "image/png": "[encoded data removed]",
      "text/plain": [
       "<Figure size 432x288 with 20 Axes>"
      ]
     },
     "metadata": {
      "needs_background": "light"
     },
     "output_type": "display_data"
    }
   ],
   "source": [
    "plot_images([images[:10], reconstructed[:10]])\n",
    "plt.title('Original vs reconstructed images')\n",
    "plt.show()"
   ]
  },
  {
   "cell_type": "markdown",
   "metadata": {},
   "source": [
    "----\n",
    "\n",
    "\n",
    "----\n",
    "\n"
   ]
  },
  {
   "cell_type": "markdown",
   "metadata": {},
   "source": [
    "## 2.3 Probability and Statistics (1.5 points)\n",
    "The aim of this exercise is to learn how to calculate basic statistics in python.\n",
    "> 2.3.1 (0.3pts) A study of a very limited population of Aliens reveals the following number of body appendages (limbs):\n",
    "<center>2,3,6,8,11,18</center>\n",
    "i. Find the mean $m$ and the standard deviation $\\sigma$ of this population.\n",
    "+ *You can use the methods numpy.ndarray.mean() and numpy.ndarray.std() to calculate the mean and standard deviation.*"
   ]
  },
  {
   "cell_type": "code",
   "execution_count": 12,
   "metadata": {},
   "outputs": [
    {
     "name": "stdout",
     "output_type": "stream",
     "text": [
      "mean: 8.0\n",
      "stddev: 5.385164807134504\n"
     ]
    }
   ],
   "source": [
    "limb_numbers = [2, 3, 6, 8, 11, 18]\n",
    "print(f'mean: {np.mean(limb_numbers)}')\n",
    "print(f'stddev: {np.std(limb_numbers)}')"
   ]
  },
  {
   "cell_type": "markdown",
   "metadata": {},
   "source": [
    "> ii. (0.3pts) List all possible samples of two aliens without replacement, and find each mean. Do the same with samples of four aliens.\n",
    "+ *You can use the method itertools.combinations(v,n) to find all possible samples of a vector v taking n elements at a time.*"
   ]
  },
  {
   "cell_type": "code",
   "execution_count": 52,
   "metadata": {},
   "outputs": [
    {
     "name": "stdout",
     "output_type": "stream",
     "text": [
      "sample (2, 3) has mean of 2.5\n",
      "sample (2, 6) has mean of 4.0\n",
      "sample (2, 8) has mean of 5.0\n",
      "sample (2, 11) has mean of 6.5\n",
      "sample (2, 18) has mean of 10.0\n",
      "sample (3, 6) has mean of 4.5\n",
      "sample (3, 8) has mean of 5.5\n",
      "sample (3, 11) has mean of 7.0\n",
      "sample (3, 18) has mean of 10.5\n",
      "sample (6, 8) has mean of 7.0\n",
      "sample (6, 11) has mean of 8.5\n",
      "sample (6, 18) has mean of 12.0\n",
      "sample (8, 11) has mean of 9.5\n",
      "sample (8, 18) has mean of 13.0\n",
      "sample (11, 18) has mean of 14.5\n",
      "\n",
      "sample (2, 3, 6, 8) has mean of 4.75\n",
      "sample (2, 3, 6, 11) has mean of 5.5\n",
      "sample (2, 3, 6, 18) has mean of 7.25\n",
      "sample (2, 3, 8, 11) has mean of 6.0\n",
      "sample (2, 3, 8, 18) has mean of 7.75\n",
      "sample (2, 3, 11, 18) has mean of 8.5\n",
      "sample (2, 6, 8, 11) has mean of 6.75\n",
      "sample (2, 6, 8, 18) has mean of 8.5\n",
      "sample (2, 6, 11, 18) has mean of 9.25\n",
      "sample (2, 8, 11, 18) has mean of 9.75\n",
      "sample (3, 6, 8, 11) has mean of 7.0\n",
      "sample (3, 6, 8, 18) has mean of 8.75\n",
      "sample (3, 6, 11, 18) has mean of 9.5\n",
      "sample (3, 8, 11, 18) has mean of 10.0\n",
      "sample (6, 8, 11, 18) has mean of 10.75\n",
      "\n"
     ]
    }
   ],
   "source": [
    "import itertools\n",
    "\n",
    "\n",
    "means = {}\n",
    "for sample_size in (2, 4):\n",
    "    samples = list(itertools.combinations(limb_numbers, sample_size))\n",
    "    means[sample_size] = list(map(np.mean, samples))\n",
    "    for sample, mean in zip(samples, means[sample_size]):\n",
    "        print(f'sample {sample} has mean of {mean}')\n",
    "    print()"
   ]
  },
  {
   "cell_type": "markdown",
   "metadata": {},
   "source": [
    "> iii. (0.3pts) Each of the means above is called a sample mean. Find the mean of all the sample means (denoted by $m_x$) and the standard\n",
    "deviation of all the sample means (denoted by $\\sigma_x$) for both\n",
    "the *N=2* and *N=4* samples."
   ]
  },
  {
   "cell_type": "code",
   "execution_count": 53,
   "metadata": {},
   "outputs": [
    {
     "name": "stdout",
     "output_type": "stream",
     "text": [
      "means of means: {2: 8.0, 4: 8.0}\n",
      "stddevs of means: {2: 3.40587727318528, 4: 1.70293863659264}\n"
     ]
    }
   ],
   "source": [
    "meta_means = {}\n",
    "meta_stddevs = {}\n",
    "for sample_size in means:\n",
    "    meta_means[sample_size] = np.mean(means[sample_size])\n",
    "    meta_stddevs[sample_size] = np.std(means[sample_size])\n",
    "\n",
    "print(f'means of means: {meta_means}')\n",
    "print(f'stddevs of means: {meta_stddevs}')"
   ]
  },
  {
   "cell_type": "markdown",
   "metadata": {},
   "source": [
    "> iv. Verify the Central Limit Theorem: (i) (0.1pts) compare the population\n",
    "mean with the mean of both sample means; (ii) (0.2pts) compare the population\n",
    "standard deviation divided by the square root of the sample size\n",
    "with the standard deviation of both sample means (i.e., does\n",
    "$\\sigma_x \\approx \\sigma/\\sqrt{N}$). BTW, a better approximation for\n",
    "small population sizes is $\\sigma_x = \\sigma / \\sqrt{N} \\times\n",
    "\\sqrt{(M-N)/(M-1)}$ with *M = 6* the size of the original"
   ]
  },
  {
   "cell_type": "code",
   "execution_count": 59,
   "metadata": {},
   "outputs": [
    {
     "name": "stdout",
     "output_type": "stream",
     "text": [
      "population mean - same as for means of sample means: 8.0\n",
      "for sample size of 2: 3.40587727318528 =(ish) 3.807886552931954\n",
      "for sample size of 4: 1.70293863659264 =(ish) 2.692582403567252\n",
      "\n",
      "better indicator:\n",
      "for sample size of 2: 3.40587727318528 =(ish) 3.40587727318528\n",
      "for sample size of 4: 1.70293863659264 =(ish) 1.70293863659264\n"
     ]
    }
   ],
   "source": [
    "print(f'population mean - same as for means of sample means: {np.mean(limb_numbers)}')\n",
    "for sample_size in meta_stddevs:\n",
    "    print(f'for sample size of {sample_size}: {meta_stddevs[sample_size]} =(ish) {np.std(limb_numbers) / sample_size ** .5}')\n",
    "\n",
    "print()\n",
    "print('better indicator:')\n",
    "for sample_size in meta_stddevs:\n",
    "    print(f'for sample size of {sample_size}: {meta_stddevs[sample_size]} =(ish) {np.std(limb_numbers) * ((len(limb_numbers) - sample_size) / (len(limb_numbers) - 1) / sample_size) ** .5}')"
   ]
  },
  {
   "cell_type": "markdown",
   "metadata": {},
   "source": [
    "> v. (0.3pts) Plot the distribution of the population and the distributions of both sample means using histograms. What happens to the shape of the sample means distribution as the sample size (N*) increases?"
   ]
  },
  {
   "cell_type": "code",
   "execution_count": 77,
   "metadata": {},
   "outputs": [
    {
     "data": {
      "image/png": "[encoded data removed]",
      "text/plain": [
       "<Figure size 432x288 with 1 Axes>"
      ]
     },
     "metadata": {
      "needs_background": "light"
     },
     "output_type": "display_data"
    }
   ],
   "source": [
    "import matplotlib.pyplot as plt\n",
    "plt.hist(limb_numbers)\n",
    "plt.xlabel('# of limbs')\n",
    "plt.ylabel('# of aliens')\n",
    "plt.title('number of limbs in all aliens')\n",
    "plt.show()"
   ]
  },
  {
   "cell_type": "code",
   "execution_count": 81,
   "metadata": {},
   "outputs": [
    {
     "data": {
      "image/png": "[encoded data removed]",
      "text/plain": [
       "<Figure size 432x288 with 1 Axes>"
      ]
     },
     "metadata": {
      "needs_background": "light"
     },
     "output_type": "display_data"
    },
    {
     "data": {
      "image/png": "[encoded data removed]",
      "text/plain": [
       "<Figure size 432x288 with 1 Axes>"
      ]
     },
     "metadata": {
      "needs_background": "light"
     },
     "output_type": "display_data"
    },
    {
     "data": {
      "image/png": "[encoded data removed]",
      "text/plain": [
       "<Figure size 432x288 with 1 Axes>"
      ]
     },
     "metadata": {
      "needs_background": "light"
     },
     "output_type": "display_data"
    },
    {
     "data": {
      "image/png": "[encoded data removed]",
      "text/plain": [
       "<Figure size 432x288 with 1 Axes>"
      ]
     },
     "metadata": {
      "needs_background": "light"
     },
     "output_type": "display_data"
    }
   ],
   "source": [
    "for sample_size in range(2, 6):\n",
    "    samples = list(itertools.combinations(limb_numbers, sample_size))\n",
    "    means = list(map(np.mean, samples))\n",
    "    plt.hist(means, range=(0, 16))\n",
    "    plt.xlabel('# of limbs')\n",
    "    plt.ylabel('# of means')\n",
    "    plt.title(f'means of number of limbs for samples of size {sample_size}')\n",
    "    plt.show()"
   ]
  },
  {
   "cell_type": "markdown",
   "metadata": {},
   "source": [
    "As the sample size gets larger, the distribution gets concentrated around the center, as predicted by the central limit theorem."
   ]
  },
  {
   "cell_type": "markdown",
   "metadata": {},
   "source": [
    "----\n",
    "\n",
    "\n",
    "----"
   ]
  }
 ],
 "metadata": {
  "kernelspec": {
   "display_name": "Python 3",
   "language": "python",
   "name": "python3"
  },
  "language_info": {
   "codemirror_mode": {
    "name": "ipython",
    "version": 3
   },
   "file_extension": ".py",
   "mimetype": "text/x-python",
   "name": "python",
   "nbconvert_exporter": "python",
   "pygments_lexer": "ipython3",
   "version": "3.7.4"
  },
  "varInspector": {
   "cols": {
    "lenName": 16,
    "lenType": 16,
    "lenVar": 40
   },
   "kernels_config": {
    "python": {
     "delete_cmd_postfix": "",
     "delete_cmd_prefix": "del ",
     "library": "var_list.py",
     "varRefreshCmd": "print(var_dic_list())"
    },
    "r": {
     "delete_cmd_postfix": ") ",
     "delete_cmd_prefix": "rm(",
     "library": "var_list.r",
     "varRefreshCmd": "cat(var_dic_list()) "
    }
   },
   "types_to_exclude": [
    "module",
    "function",
    "builtin_function_or_method",
    "instance",
    "_Feature"
   ],
   "window_display": false
  }
 },
 "nbformat": 4,
 "nbformat_minor": 2
}
