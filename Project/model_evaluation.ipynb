{
 "cells": [
  {
   "cell_type": "code",
   "execution_count": null,
   "metadata": {},
   "outputs": [],
   "source": [
    "%matplotlib inline\n",
    "import matplotlib.pyplot as plt\n",
    "from tqdm.notebook import tqdm, trange\n",
    "from collections import defaultdict\n",
    "\n",
    "import data\n",
    "import model"
   ]
  },
  {
   "cell_type": "code",
   "execution_count": null,
   "metadata": {},
   "outputs": [],
   "source": [
    "def validate(model):\n",
    "    result = defaultdict(int)\n",
    "    for images, labels in tqdm(valid_loader):\n",
    "        outputs = model(images)\n",
    "        predictions = (outputs[:, 0] < outputs[:, 1]).data.numpy()\n",
    "        labels = labels.data.numpy().astype(bool)\n",
    "        result['tp'] += np.sum(labels & predictions)\n",
    "        result['fp'] += np.sum(np.logical_not(labels) & predictions)\n",
    "        result['tn'] += np.sum(np.logical_not(labels) & np.logical_not(predictions))\n",
    "        result['fn'] += np.sum(labels & np.logical_not(predictions))\n",
    "    return result"
   ]
  }
 ],
 "metadata": {
  "kernelspec": {
   "display_name": "Python 3",
   "language": "python",
   "name": "python3"
  },
  "language_info": {
   "codemirror_mode": {
    "name": "ipython",
    "version": 3
   },
   "file_extension": ".py",
   "mimetype": "text/x-python",
   "name": "python",
   "nbconvert_exporter": "python",
   "pygments_lexer": "ipython3",
   "version": "3.7.4"
  }
 },
 "nbformat": 4,
 "nbformat_minor": 2
}
