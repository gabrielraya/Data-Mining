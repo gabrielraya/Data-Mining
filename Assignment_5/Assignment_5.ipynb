{
 "cells": [
  {
   "cell_type": "markdown",
   "metadata": {},
   "source": [
    "# Assignment 5: Association mining\n",
    "\n",
    "## Objective of this assignment\n",
    "The overall objective is to understand how frequent itemsets can be extracted by\n",
    "the Apriori algorithm and be able to calculate and interpret association rules in terms of support and confidence.\n",
    "\n",
    "## ** Important: ** When handing in your homework:\n",
    "+ Hand in the notebook **(and nothing else)** named as follows: **StudentName1_snumber_StudentName2_snumber.ipynb**\n",
    "+ Provide clear and complete answers to the questions below under a separate header (not hidden somewhere in your source code), and make sure to explain your answers / motivate your choices. Add Markdown cells where necessary.\n",
    "+ Source code, output graphs, derivations, etc., should be included in the notebook.\n",
    "+ Hand-in: upload to Brightspace.\n",
    "+ Include name, student number, assignment (especially in filenames)!\n",
    "+ When working in pairs only one of you should upload the assignment, and report the name of your partner in your filename.\n",
    "+ Use the Brightspace discussion board or email the student assistants for questions on how to complete the exercises.\n",
    "+ If you find mistakes/have suggestions/would like to complain about the assigment material itself, please email me [Lisa] at `l.tostrams@science.ru.nl`\n",
    "\n",
    "## Advised Reading and Exercise Material\n",
    "**The following reading material is recommended:**\n",
    "\n",
    "- Pang-Ning Tan, Michael Steinbach, and Vipin Kumar, *Introduction to Data Mining*, section 6.\n",
    "\n",
    "\n",
    "## Additional Tools\n",
    "For this exercise you will need to load the provided *apriorimining.py* script. \n",
    "\n",
    "\n",
    "##  5.1 Association mining for course data \n",
    "We will use the Apriori algorithm to automatically mine for associations. Check out the script and doc from the Toolbox folder and check if you understand how the association rules are computed. \n",
    "\n"
   ]
  },
  {
   "cell_type": "code",
   "execution_count": 2,
   "metadata": {},
   "outputs": [],
   "source": [
    "import Toolbox.apriorimining as a"
   ]
  },
  {
   "cell_type": "markdown",
   "metadata": {},
   "source": [
    "\n",
    "#### 5.1.1\n",
    "\n",
    "(0 points) Look at the data file `Data/courses.txt` into Python. The data is represented in Table 1. Inspect the file Data/courses.txt and make sure you understand how the data in Table 1 is stored in the text file.\n",
    "\n",
    "##### Table 1\n",
    "|#  |   History |Math| Biology| Spanish | Economics| Physics | Chemistry | English  |  \n",
    "| :-------------: |:-------------:| :-----------:| :----------:| :------------:|:-------------:| :------------:|  :-------------: | :-------------: |\n",
    "|student 1 | 0| 1 | 0 | 0 | 1| 1 |1 |1   \n",
    "|student 2 | 1| 1 | 1 | 0 | 0| 1 |1 |1   \n",
    "|student 3 | 0| 1 | 0 | 1 | 0| 1 |0 |1   \n",
    "|student 4 | 0| 0 | 1 | 0 | 0| 1 |1 |0   \n",
    "|student 5 | 0| 1 | 0 | 0 | 0| 1 |1 |0        \n",
    "|student 6 | 0| 1 | 1 | 0 | 0| 1 |1 |1   \n"
   ]
  },
  {
   "cell_type": "markdown",
   "metadata": {},
   "source": [
    "#### 5.1.2\n",
    "(1 point) We will analyze the data in Table 1 automatically using the function `apriorimining.generate_association_rules()` from the script. Analyze the data with $ minsupport  \\geq 80 \\% $ and $ minconfidence \\geq 100 \\%$.What\n",
    "are the generated association rules? What kind of conclusions can you make based on these association rules about the subjects that students took?  \n",
    "  \n"
   ]
  },
  {
   "cell_type": "code",
   "execution_count": 4,
   "metadata": {
    "scrolled": false
   },
   "outputs": [
    {
     "name": "stdout",
     "output_type": "stream",
     "text": [
      "Please enter support value in %: 80\n",
      "Please enter confidence value in %: 100\n",
      "Enter the max number of rules you want to see (enter 0 to see all rules): 0\n",
      "Please enter filepath\\filename (for Windows), or filepath/filename (for UNIX/Mac), and extension: Data/courses.txt\n",
      "---------------TOP 10 FREQUENT 1-ITEMSET-------------------------\n",
      "set= { 6 },  sup= 100.0\n",
      "set= { 2 },  sup= 83.33\n",
      "set= { 7 },  sup= 83.33\n",
      "-----------------------------------------------------------------\n",
      "-------TOP 10 (or less) FREQUENT 2-ITEMSET------------------------\n",
      "set= { 2, 6 },  sup= 83.33\n",
      "set= { 6, 7 },  sup= 83.33\n",
      "------------------------------------------------------------------\n",
      "---------------------ASSOCIATION RULES------------------\n",
      "--------------------------------------------------------\n",
      "Rule #1: {  } ==> { 6 }, sup= 100.00, conf= 100.00\n",
      "\n",
      "Rule #2: { 2 } ==> { 6 }, sup= 83.33, conf= 100.00\n",
      "\n",
      "Rule #3: { 7 } ==> { 6 }, sup= 83.33, conf= 100.00\n",
      "--------------------------------------------------------\n"
     ]
    }
   ],
   "source": [
    "a.generate_association_rules()"
   ]
  },
  {
   "cell_type": "markdown",
   "metadata": {},
   "source": [
    "_We're only looking at rules with 100% confidence, so all we can say is what everyone took - it is Physics._"
   ]
  },
  {
   "cell_type": "markdown",
   "metadata": {},
   "source": [
    "  ##  5.2 Association mining for MovieLens data \n",
    "  \n",
    "  \n",
    "  In this part of the exercise we consider a Market Basket data set containing 943 users purchases of 1682 movies. A total of 100,000 movies\n",
    "have been purchased.The data set is called MovieLens100K and is provided by http://www.grouplens.org/node/73, see also the readme `MovieLensData.txt` in the data folder. The data currently considered is not the original data but modified for the apriori algorithm.\n",
    "\n",
    "#### 5.2.1\n",
    "  (0 points) The MovieLens data is stored in the file MovieLensData.txt. Inspect the file to see how the data is stored.\n",
    "\n",
    "\n",
    "#### 5.2.2 \n",
    "  (1 point) Find association rules using the function below with $ minsupport  \\geq 30 \\% $ and $ minconfidence \\geq 80 \\%$. What are the associations with strongest confidence? Do these associations make sense? The script can use file Data/u.item to print the movie titles in stead of numbers. If you enter filename `MovieLensData.txt`, the script will provide an additional option for this. \n",
    "  "
   ]
  },
  {
   "cell_type": "code",
   "execution_count": 5,
   "metadata": {
    "scrolled": false
   },
   "outputs": [
    {
     "name": "stdout",
     "output_type": "stream",
     "text": [
      "Please enter support value in %: 30\n",
      "Please enter confidence value in %: 80\n",
      "Enter the max number of rules you want to see (enter 0 to see all rules): 0\n",
      "Please enter filepath\\filename (for Windows), or filepath/filename (for UNIX/Mac), and extension: Data/MovieLensData.txt\n",
      "Do you want to print sets and rules with Movie names in stead of numbers? [y/n]: y\n",
      "---------------TOP 10 FREQUENT 1-ITEMSET-------------------------\n",
      "set= { Star Wars (1977) },  sup= 61.82\n",
      "set= { Contact (1997) },  sup= 53.98\n",
      "set= { Fargo (1996) },  sup= 53.87\n",
      "set= { Return of the Jedi (1983) },  sup= 53.76\n",
      "set= { Liar Liar (1997) },  sup= 51.43\n",
      "set= { English Patient, The (1996) },  sup= 51.01\n",
      "set= { Scream (1996) },  sup= 50.69\n",
      "set= { Toy Story (1995) },  sup= 47.93\n",
      "set= { Air Force One (1997) },  sup= 45.71\n",
      "set= { Independence Day (ID4) (1996) },  sup= 45.49\n",
      "-----------------------------------------------------------------\n",
      "-------TOP 10 (or less) FREQUENT 2-ITEMSET------------------------\n",
      "set= { Return of the Jedi (1983), Star Wars (1977) },  sup= 50.9\n",
      "set= { Fargo (1996), Star Wars (1977) },  sup= 41.78\n",
      "set= { Star Wars (1977), Toy Story (1995) },  sup= 40.4\n",
      "set= { Raiders of the Lost Ark (1981), Star Wars (1977) },  sup= 40.3\n",
      "set= { Independence Day (ID4) (1996), Star Wars (1977) },  sup= 38.39\n",
      "set= { Godfather, The (1972), Star Wars (1977) },  sup= 37.86\n",
      "set= { Fargo (1996), Return of the Jedi (1983) },  sup= 36.69\n",
      "set= { Empire Strikes Back, The (1980), Star Wars (1977) },  sup= 36.59\n",
      "set= { Raiders of the Lost Ark (1981), Return of the Jedi (1983) },  sup= 36.27\n",
      "set= { Return of the Jedi (1983), Toy Story (1995) },  sup= 36.06\n",
      "------------------------------------------------------------------\n",
      "-------TOP 10 (or less) FREQUENT 3-ITEMSET------------------------\n",
      "set= { Raiders of the Lost Ark (1981), Return of the Jedi (1983), Star Wars (1977) },  sup= 35.74\n",
      "set= { Return of the Jedi (1983), Star Wars (1977), Toy Story (1995) },  sup= 35.31\n",
      "set= { Fargo (1996), Return of the Jedi (1983), Star Wars (1977) },  sup= 34.99\n",
      "set= { Independence Day (ID4) (1996), Return of the Jedi (1983), Star Wars (1977) },  sup= 34.68\n",
      "set= { Empire Strikes Back, The (1980), Raiders of the Lost Ark (1981), Star Wars (1977) },  sup= 33.51\n",
      "set= { Empire Strikes Back, The (1980), Return of the Jedi (1983), Star Wars (1977) },  sup= 33.4\n",
      "set= { Godfather, The (1972), Return of the Jedi (1983), Star Wars (1977) },  sup= 31.92\n",
      "set= { Empire Strikes Back, The (1980), Raiders of the Lost Ark (1981), Return of the Jedi (1983) },  sup= 31.28\n",
      "set= { Raiders of the Lost Ark (1981), Silence of the Lambs, The (1991), Star Wars (1977) },  sup= 30.86\n",
      "set= { Pulp Fiction (1994), Raiders of the Lost Ark (1981), Star Wars (1977) },  sup= 30.65\n",
      "------------------------------------------------------------------\n",
      "-------TOP 10 (or less) FREQUENT 4-ITEMSET------------------------\n",
      "set= { Empire Strikes Back, The (1980), Raiders of the Lost Ark (1981), Return of the Jedi (1983), Star Wars (1977) },  sup= 31.18\n",
      "------------------------------------------------------------------\n",
      "---------------------ASSOCIATION RULES------------------\n",
      "--------------------------------------------------------\n",
      "Rule #72: { Empire Strikes Back, The (1980), Raiders of the Lost Ark (1981), Return of the Jedi (1983) } ==> { Star Wars (1977) }, sup= 31.18, conf= 99.66\n",
      "\n",
      "Rule #51: { Empire Strikes Back, The (1980), Return of the Jedi (1983) } ==> { Star Wars (1977) }, sup= 33.40, conf= 99.37\n",
      "\n",
      "Rule #33: { Pulp Fiction (1994), Return of the Jedi (1983) } ==> { Star Wars (1977) }, sup= 30.22, conf= 98.62\n",
      "\n",
      "Rule #56: { Raiders of the Lost Ark (1981), Return of the Jedi (1983) } ==> { Star Wars (1977) }, sup= 35.74, conf= 98.54\n",
      "\n",
      "Rule #57: { Return of the Jedi (1983), Toy Story (1995) } ==> { Star Wars (1977) }, sup= 35.31, conf= 97.94\n",
      "\n",
      "Rule #61: { Return of the Jedi (1983), Silence of the Lambs, The (1991) } ==> { Star Wars (1977) }, sup= 30.65, conf= 97.64\n",
      "\n",
      "Rule #59: { Return of the Jedi (1983), Twelve Monkeys (1995) } ==> { Star Wars (1977) }, sup= 30.54, conf= 97.63\n",
      "\n",
      "Rule #39: { Godfather, The (1972), Return of the Jedi (1983) } ==> { Star Wars (1977) }, sup= 31.92, conf= 97.10\n",
      "\n",
      "Rule #63: { Return of the Jedi (1983), Star Trek: First Contact (1996) } ==> { Star Wars (1977) }, sup= 30.65, conf= 96.98\n",
      "\n",
      "Rule #44: { Empire Strikes Back, The (1980), Raiders of the Lost Ark (1981) } ==> { Star Wars (1977) }, sup= 33.51, conf= 96.64\n",
      "\n",
      "Rule #37: { Independence Day (ID4) (1996), Return of the Jedi (1983) } ==> { Star Wars (1977) }, sup= 34.68, conf= 96.46\n",
      "\n",
      "Rule #65: { Contact (1997), Return of the Jedi (1983) } ==> { Star Wars (1977) }, sup= 30.22, conf= 95.64\n",
      "\n",
      "Rule #35: { Fargo (1996), Return of the Jedi (1983) } ==> { Star Wars (1977) }, sup= 34.99, conf= 95.38\n",
      "\n",
      "Rule #19: { Return of the Jedi (1983) } ==> { Star Wars (1977) }, sup= 50.90, conf= 94.67\n",
      "\n",
      "Rule #13: { Empire Strikes Back, The (1980) } ==> { Star Wars (1977) }, sup= 36.59, conf= 94.01\n",
      "\n",
      "Rule #52: { Raiders of the Lost Ark (1981), Silence of the Lambs, The (1991) } ==> { Star Wars (1977) }, sup= 30.86, conf= 93.57\n",
      "\n",
      "Rule #74: { Empire Strikes Back, The (1980), Return of the Jedi (1983), Star Wars (1977) } ==> { Raiders of the Lost Ark (1981) }, sup= 31.18, conf= 93.33\n",
      "\n",
      "Rule #48: { Empire Strikes Back, The (1980), Return of the Jedi (1983) } ==> { Raiders of the Lost Ark (1981) }, sup= 31.28, conf= 93.06\n",
      "\n",
      "Rule #73: { Empire Strikes Back, The (1980), Raiders of the Lost Ark (1981), Star Wars (1977) } ==> { Return of the Jedi (1983) }, sup= 31.18, conf= 93.04\n",
      "\n",
      "Rule #70: { Empire Strikes Back, The (1980), Return of the Jedi (1983) } ==> { Raiders of the Lost Ark (1981), Star Wars (1977) }, sup= 31.18, conf= 92.74\n",
      "\n",
      "Rule #31: { Pulp Fiction (1994), Raiders of the Lost Ark (1981) } ==> { Star Wars (1977) }, sup= 30.65, conf= 92.04\n",
      "\n",
      "Rule #25: { Indiana Jones and the Last Crusade (1989) } ==> { Star Wars (1977) }, sup= 32.24, conf= 91.84\n",
      "\n",
      "Rule #42: { Empire Strikes Back, The (1980), Star Wars (1977) } ==> { Raiders of the Lost Ark (1981) }, sup= 33.51, conf= 91.59\n",
      "\n",
      "Rule #64: { Star Trek: First Contact (1996), Star Wars (1977) } ==> { Return of the Jedi (1983) }, sup= 30.65, conf= 91.46\n",
      "\n",
      "Rule #50: { Empire Strikes Back, The (1980), Star Wars (1977) } ==> { Return of the Jedi (1983) }, sup= 33.40, conf= 91.30\n",
      "\n",
      "Rule #11: { Mission: Impossible (1996) } ==> { Independence Day (ID4) (1996) }, sup= 33.30, conf= 91.28\n",
      "\n",
      "Rule #17: { Raiders of the Lost Ark (1981) } ==> { Star Wars (1977) }, sup= 40.30, conf= 90.48\n",
      "\n",
      "Rule #38: { Independence Day (ID4) (1996), Star Wars (1977) } ==> { Return of the Jedi (1983) }, sup= 34.68, conf= 90.33\n",
      "\n",
      "Rule #47: { Empire Strikes Back, The (1980), Raiders of the Lost Ark (1981) } ==> { Return of the Jedi (1983) }, sup= 31.28, conf= 90.21\n",
      "\n",
      "Rule #69: { Empire Strikes Back, The (1980), Raiders of the Lost Ark (1981) } ==> { Return of the Jedi (1983), Star Wars (1977) }, sup= 31.18, conf= 89.91\n",
      "\n",
      "Rule #14: { Empire Strikes Back, The (1980) } ==> { Raiders of the Lost Ark (1981) }, sup= 34.68, conf= 89.10\n",
      "\n",
      "Rule #60: { Star Wars (1977), Twelve Monkeys (1995) } ==> { Return of the Jedi (1983) }, sup= 30.54, conf= 88.89\n",
      "\n",
      "Rule #55: { Raiders of the Lost Ark (1981), Star Wars (1977) } ==> { Return of the Jedi (1983) }, sup= 35.74, conf= 88.68\n",
      "\n",
      "Rule #4: { Forrest Gump (1994) } ==> { Star Wars (1977) }, sup= 30.12, conf= 88.47\n",
      "\n",
      "Rule #5: { Fugitive, The (1993) } ==> { Star Wars (1977) }, sup= 31.50, conf= 88.39\n",
      "\n",
      "Rule #22: { Back to the Future (1985) } ==> { Star Wars (1977) }, sup= 32.77, conf= 88.29\n",
      "\n",
      "Rule #16: { Princess Bride, The (1987) } ==> { Star Wars (1977) }, sup= 30.12, conf= 87.65\n",
      "\n",
      "Rule #30: { Pulp Fiction (1994), Star Wars (1977) } ==> { Raiders of the Lost Ark (1981) }, sup= 30.65, conf= 87.58\n",
      "\n",
      "Rule #58: { Star Wars (1977), Toy Story (1995) } ==> { Return of the Jedi (1983) }, sup= 35.31, conf= 87.40\n",
      "\n",
      "Rule #34: { Fargo (1996), Toy Story (1995) } ==> { Star Wars (1977) }, sup= 30.12, conf= 87.38\n",
      "\n",
      "Rule #26: { Indiana Jones and the Last Crusade (1989) } ==> { Raiders of the Lost Ark (1981) }, sup= 30.65, conf= 87.31\n",
      "\n",
      "Rule #75: { Raiders of the Lost Ark (1981), Return of the Jedi (1983), Star Wars (1977) } ==> { Empire Strikes Back, The (1980) }, sup= 31.18, conf= 87.24\n",
      "\n",
      "Rule #53: { Silence of the Lambs, The (1991), Star Wars (1977) } ==> { Raiders of the Lost Ark (1981) }, sup= 30.86, conf= 86.87\n",
      "\n",
      "Rule #28: { Star Trek: First Contact (1996) } ==> { Star Wars (1977) }, sup= 33.51, conf= 86.58\n",
      "\n",
      "Rule #12: { Godfather, The (1972) } ==> { Star Wars (1977) }, sup= 37.86, conf= 86.44\n",
      "\n",
      "Rule #15: { Empire Strikes Back, The (1980) } ==> { Return of the Jedi (1983) }, sup= 33.62, conf= 86.38\n",
      "\n",
      "Rule #32: { Pulp Fiction (1994), Star Wars (1977) } ==> { Return of the Jedi (1983) }, sup= 30.22, conf= 86.36\n",
      "\n",
      "Rule #62: { Silence of the Lambs, The (1991), Star Wars (1977) } ==> { Return of the Jedi (1983) }, sup= 30.65, conf= 86.27\n",
      "\n",
      "Rule #46: { Raiders of the Lost Ark (1981), Return of the Jedi (1983) } ==> { Empire Strikes Back, The (1980) }, sup= 31.28, conf= 86.26\n",
      "\n",
      "Rule #41: { Empire Strikes Back, The (1980) } ==> { Raiders of the Lost Ark (1981), Star Wars (1977) }, sup= 33.51, conf= 86.10\n",
      "\n",
      "Rule #71: { Raiders of the Lost Ark (1981), Return of the Jedi (1983) } ==> { Empire Strikes Back, The (1980), Star Wars (1977) }, sup= 31.18, conf= 85.96\n",
      "\n",
      "Rule #7: { Silence of the Lambs, The (1991) } ==> { Star Wars (1977) }, sup= 35.52, conf= 85.90\n",
      "\n",
      "Rule #49: { Empire Strikes Back, The (1980) } ==> { Return of the Jedi (1983), Star Wars (1977) }, sup= 33.40, conf= 85.83\n",
      "\n",
      "Rule #27: { Indiana Jones and the Last Crusade (1989) } ==> { Return of the Jedi (1983) }, sup= 30.01, conf= 85.50\n",
      "\n",
      "Rule #66: { Contact (1997), Star Wars (1977) } ==> { Return of the Jedi (1983) }, sup= 30.22, conf= 85.33\n",
      "\n",
      "Rule #68: { Empire Strikes Back, The (1980), Star Wars (1977) } ==> { Raiders of the Lost Ark (1981), Return of the Jedi (1983) }, sup= 31.18, conf= 85.22\n",
      "\n",
      "Rule #23: { Back to the Future (1985) } ==> { Raiders of the Lost Ark (1981) }, sup= 31.60, conf= 85.14\n",
      "\n",
      "Rule #6: { Fugitive, The (1993) } ==> { Raiders of the Lost Ark (1981) }, sup= 30.33, conf= 85.12\n",
      "\n",
      "Rule #10: { Independence Day (ID4) (1996) } ==> { Star Wars (1977) }, sup= 38.39, conf= 84.38\n",
      "\n",
      "Rule #40: { Godfather, The (1972), Star Wars (1977) } ==> { Return of the Jedi (1983) }, sup= 31.92, conf= 84.31\n",
      "\n",
      "Rule #29: { Mission: Impossible (1996) } ==> { Star Wars (1977) }, sup= 30.75, conf= 84.30\n",
      "\n",
      "Rule #1: { Toy Story (1995) } ==> { Star Wars (1977) }, sup= 40.40, conf= 84.29\n",
      "\n",
      "Rule #3: { Pulp Fiction (1994) } ==> { Star Wars (1977) }, sup= 34.99, conf= 83.76\n",
      "\n",
      "Rule #36: { Fargo (1996), Star Wars (1977) } ==> { Return of the Jedi (1983) }, sup= 34.99, conf= 83.76\n",
      "\n",
      "Rule #43: { Raiders of the Lost Ark (1981), Star Wars (1977) } ==> { Empire Strikes Back, The (1980) }, sup= 33.51, conf= 83.16\n",
      "\n",
      "Rule #2: { Twelve Monkeys (1995) } ==> { Star Wars (1977) }, sup= 34.36, conf= 82.65\n",
      "\n",
      "Rule #9: { Rock, The (1996) } ==> { Star Wars (1977) }, sup= 33.09, conf= 82.54\n",
      "\n",
      "Rule #20: { Star Wars (1977) } ==> { Return of the Jedi (1983) }, sup= 50.90, conf= 82.33\n",
      "\n",
      "Rule #24: { Back to the Future (1985) } ==> { Return of the Jedi (1983) }, sup= 30.33, conf= 81.71\n",
      "\n",
      "Rule #21: { Star Trek: First Contact (1996) } ==> { Return of the Jedi (1983) }, sup= 31.60, conf= 81.64\n",
      "\n",
      "Rule #8: { Twelve Monkeys (1995) } ==> { Fargo (1996) }, sup= 33.93, conf= 81.63\n",
      "\n",
      "Rule #18: { Raiders of the Lost Ark (1981) } ==> { Return of the Jedi (1983) }, sup= 36.27, conf= 81.43\n",
      "\n",
      "Rule #45: { Empire Strikes Back, The (1980) } ==> { Raiders of the Lost Ark (1981), Return of the Jedi (1983) }, sup= 31.28, conf= 80.38\n",
      "\n",
      "Rule #54: { Raiders of the Lost Ark (1981) } ==> { Return of the Jedi (1983), Star Wars (1977) }, sup= 35.74, conf= 80.24\n",
      "\n",
      "Rule #67: { Empire Strikes Back, The (1980) } ==> { Raiders of the Lost Ark (1981), Return of the Jedi (1983), Star Wars (1977) }, sup= 31.18, conf= 80.11\n",
      "--------------------------------------------------------\n"
     ]
    }
   ],
   "source": [
    "a.generate_association_rules()"
   ]
  },
  {
   "cell_type": "markdown",
   "metadata": {},
   "source": [
    "_All the high-confidence association rules are simply for popular movies. The first 20 or so simply spell out \"everyone has watched Star Wars, if they even watch movies at all\". It's worth noting that this doesn't mean that everyone has watched Star Wars - in fact, only 61% people have. What's more, many association rules involve only the Star Wars movies - perhaps this means that watching one movie in a series make sone more likely to watch the others, but this would require further investigation._"
   ]
  },
  {
   "cell_type": "markdown",
   "metadata": {},
   "source": [
    "#### 5.2.3 \n",
    "(1 point) Which movies have been watched by the most users? There are only few rules with more than three items. Why?"
   ]
  },
  {
   "cell_type": "markdown",
   "metadata": {},
   "source": [
    "_The most-watched movies are Star Wars, Contact and Fargo. However, even they haven't been watched by that many people - this is why there are few rules with many items: it is likely that percentage-wise, there are few people who have watched given movies A, B, and C, given how probabilities work (with probabilities being multiplied for the conjunction of several independent events). Of course, watching movies is not independent events - that's why we're doing data mining at all - but the dependency that can be found in movie series is often lost above 3 anyway, since a trilogy is the  most common *logy._"
   ]
  },
  {
   "cell_type": "markdown",
   "metadata": {},
   "source": [
    "#### 5.2.4\n",
    "(0.5 points) Often we are interested in rules with high confidence. Is it possible for\n",
    "itemsets to have very low support but still have a very high confidence?"
   ]
  },
  {
   "cell_type": "markdown",
   "metadata": {},
   "source": [
    "_It is. Using the movie example: if only 2 people in our dataset of 1000 have watched an obscure, rare movie, but they have similar taste - and both watched another, similarly obscure movie, then the itemsets of the two movies will have very low support (0.2%) but 100% confidence._"
   ]
  },
  {
   "cell_type": "markdown",
   "metadata": {},
   "source": [
    "## 5.3 Calculating support, confidence and interest\n",
    "\n",
    "Calculate these measures and write down how you computed things, not just the answers. \n",
    "\n",
    "\n",
    "#### 5.3.1\n",
    " Suppose we have market basket data consisting of 100 transactions and 20 items. The support for item $ \\text{a} = 45 \\%$, the support for item $ \\text{b} = 80 \\%$ and the support for itemset $ \\text{ {a,b }} = 30 \\%$. Let the support and confidence thresholds be 20$ \\%$ and 60$ \\%$, respectively.\n",
    "  \n",
    "1. (0.5 points) Compute the confidence of the association rule $ \\text{ {a } } \\rightarrow   \\text{{b }} $. Is the rule interesting according to the confidence measure?\n",
    "\n",
    "2. (0.5 points) Compute the interest measure (or lift, see slide 44 of chapter 6) for the association pattern $ \\text{ {a,b}}$. Describe the nature of the relationship between item $ \\text{a}$ and item $ \\text{b}$  in terms of the itemset measure.\n",
    "3. (1 points) What conclusion can you draw from the results of parts (1) and (2)?"
   ]
  },
  {
   "cell_type": "code",
   "execution_count": 6,
   "metadata": {},
   "outputs": [
    {
     "data": {
      "text/plain": [
       "0.8333333333333333"
      ]
     },
     "execution_count": 6,
     "metadata": {},
     "output_type": "execute_result"
    }
   ],
   "source": [
    "0.3/(0.45 * 0.8)"
   ]
  },
  {
   "cell_type": "markdown",
   "metadata": {},
   "source": [
    "*1. Confidence measures how often items in b appear in trasactions that contain a, therefore the confidence is 0.3/0.45 = 67%. The rule is interesting because it exceeds the confidence threshold*\n",
    "\n",
    "*2. The interest measure is 0.3/(0.45 * 0.8) (<1, therefore  the itesms are Negatively correlated)*\n",
    "\n",
    "*3. High confidence rules may not be interesting*\n",
    "\n"
   ]
  },
  {
   "cell_type": "markdown",
   "metadata": {},
   "source": [
    "#### 5.3.2\n",
    "\n",
    "1. (1 points) Let $c_1$, $c_2$, and $c_3$ be the confidence values of the rules $ \\text{ {a } } \\rightarrow   \\text{{b }} $, $ \\text{ {a } } \\rightarrow   \\text{{b,c }} $, and $ \\text{ {a,c } } \\rightarrow   \\text{{b }} $ respectively. If we assume that $c_1$, $c_2$, and $c_3$ have different values, what are the possible inequality relationships (e.g. $c_1 \\leq c_2 \\leq c_3$) among $c_1$, $c_2$, and $c_3$? Which rule has the lowest confidence?\n",
    "2. (0.5 points) Suppose the confidence of the rules  $ \\text{ {a } } \\rightarrow   \\text{{b }} $ and $ \\text{ {b } } \\rightarrow   \\text{{c }} $ are larger than the confidence threshold. Is it possible that $ \\text{ {a } } \\rightarrow   \\text{{c }} $ has a confidence below that threshold? If no, explain why. If yes, give an example. "
   ]
  },
  {
   "cell_type": "code",
   "execution_count": 8,
   "metadata": {},
   "outputs": [
    {
     "data": {
      "text/plain": [
       "0.6666666666666666"
      ]
     },
     "execution_count": 8,
     "metadata": {},
     "output_type": "execute_result"
    }
   ],
   "source": [
    "0.6/(0.9)"
   ]
  },
  {
   "cell_type": "markdown",
   "metadata": {},
   "source": [
    "*Answers:*\n",
    "1. First we get the confidence values as follows: \n",
    "\n",
    "    $c_1 = \\frac{s(a\\cup b)}{s(a)}$\n",
    "    $c_2 = \\frac{s(a\\cup b \\cup c)}{s(a)}$\n",
    "    $c_3 = \\frac{s(a\\cup b\\cup c)}{s(a \\cup c )}$\n",
    " \n",
    "Then, if we consider the set properties to hold:\n",
    "\n",
    "$$s(a) \\geq s(a \\cup b) \\geq s(a \\cup b \\cup c)$$, \n",
    "\n",
    "Then: $c_1 \\geq c_2;  c_3 \\geq c_2$, therefore $c_2$ has the lowest confidence. \n",
    "\n",
    "2. Yes, it is possible as the confidence values depends on the support of the items.  For example:\n",
    "\n",
    "$$s(a,b) = 0.5, s(a) = 0.8$$\n",
    "$$s(b,c) = 0.6, s(b) = 0.7$$\n",
    "$$s(a,c) = 0.2, s(c) = 0.7$$\n",
    "Then, let *minconf* = 50%, therefore:\n",
    "$$c(a \\to b) = 62.5\\% > minconf$$\n",
    "$$c(b \\to c) = 85.7\\% > minconf$$\n",
    "$$c(a \\to c) = 28.5\\% < minconf$$\n"
   ]
  },
  {
   "cell_type": "code",
   "execution_count": 11,
   "metadata": {},
   "outputs": [
    {
     "name": "stdout",
     "output_type": "stream",
     "text": [
      "0.8571428571428572\n",
      "0.28571428571428575\n"
     ]
    }
   ],
   "source": [
    "print(0.6/0.7)\n",
    "print(0.2/0.7)"
   ]
  },
  {
   "cell_type": "markdown",
   "metadata": {},
   "source": [
    "\n",
    "#### 5.3.3\n",
    "\n",
    "(3 points) Consider the relationships between customers who buy high-definition televisions and exercise machines as shown in Table 2 and 3.\n",
    "\n",
    "1. Compute the odd ratios for both tables.\n",
    "2. Compute the $\\phi$-coefficient for both tables.\n",
    "3. Compute the interest (or lift, in the book) factor for both tables.\n",
    "\n",
    "For Table 3 you should compute measures given above separately for College\n",
    "Students and for Adults. For each of the measures, describe how the direction\n",
    "of association changes when data is pooled together (Table 2) instead of being\n",
    "separated into two groups (Table 3)\n",
    "\n",
    "##### Table 2: Two way contingency table between the sale of high-definition television and exercise machine\n",
    "| |   Buy Exercise machine |     |     |\n",
    "| :------------- | -------------:| :-----------:| :----------:| \n",
    "| **Buy HDTV     ** | yes | no | total |\n",
    "| yes  | 105| 87 | 192 | \n",
    "| no | 40| 62 | 102 |   \n",
    "| total | 145 | 149 | 294 | \n",
    " \n",
    "\n",
    "##### Table 3: Example of three-way contingency table\n",
    "| | |   Buy Exercise machine |     |     |\n",
    "|--- | :------------- | -------------:| :-----------:| :----------:| \n",
    "|**Customer group** | **Buy HDTV     ** | yes | no | total |\n",
    "|College students | yes  | 2| 9 | 11 | \n",
    "| | no | 5| 20 | 25 |\n",
    "| Working adults | yes  | 103| 78 | 181 | \n",
    "| | no | 35| 42 | 77 |  \n",
    "\n"
   ]
  },
  {
   "cell_type": "code",
   "execution_count": 23,
   "metadata": {},
   "outputs": [
    {
     "name": "stdout",
     "output_type": "stream",
     "text": [
      "OR table1 :1.8706896551724137\n",
      "OR table2 :0.8888888888888888\n",
      "OR table2 :1.5846153846153845\n"
     ]
    }
   ],
   "source": [
    "a = 105; b = 87; c=40; d=62;\n",
    "OR = (a*d) / (b*c)\n",
    "print(f'OR table1 :{OR}')\n",
    "\n",
    "a = 2; b = 9; c=5; d=20;\n",
    "OR = (a*d) / (b*c)\n",
    "print(f'OR table2 :{OR}')\n",
    "\n",
    "a = 103; b = 78; c=35; d=42;\n",
    "OR = (a*d) / (b*c)\n",
    "print(f'OR table2 :{OR}')"
   ]
  },
  {
   "cell_type": "code",
   "execution_count": 26,
   "metadata": {},
   "outputs": [
    {
     "name": "stdout",
     "output_type": "stream",
     "text": [
      "0.14730408574297155\n",
      "-0.0211619477845243\n",
      "0.0959715939205995\n"
     ]
    }
   ],
   "source": [
    "import math\n",
    "phi = ((105/294) - (145/294)*(192/294))/(math.sqrt((149/294)*(102/294)*(145/294)*(192/294)))\n",
    "print(phi)           \n",
    "t =36\n",
    "phi = ((2/t) - (7/t)*(11/t))/(math.sqrt((29/t)*(25/t)*(7/t)*(11/t)))\n",
    "print(phi)         \n",
    "t =181+77\n",
    "phi = ((103/t) - (138/t)*(182/t))/(math.sqrt((120/t)*(77/t)*(138/t)*(181/t)))\n",
    "print(phi)    "
   ]
  },
  {
   "cell_type": "code",
   "execution_count": 27,
   "metadata": {},
   "outputs": [
    {
     "name": "stdout",
     "output_type": "stream",
     "text": [
      "1.1088362068965518\n",
      "0.9350649350649349\n",
      "1.0638962286812395\n"
     ]
    }
   ],
   "source": [
    "t =294\n",
    "lift = (105/t)/((145/t)*(192/t))\n",
    "print(lift)           \n",
    "\n",
    "t =36\n",
    "lift = (2/t)/((7/t)*(11/t))\n",
    "print(lift)    \n",
    "\n",
    "t =181+77\n",
    "lift = (103/t)/((138/t)*(181/t))\n",
    "print(lift)    "
   ]
  },
  {
   "cell_type": "markdown",
   "metadata": {},
   "source": [
    "*Answers:*\n",
    "\n",
    "1. odds ratio for table 2 = 1.8706, and for table 3 are 0.8888 and 1.5846\n",
    "    \n",
    "2.  The $\\phi$ coefficient for both tables is:\n",
    "\n",
    " - For table 2, $\\phi = 0.1473 $\n",
    " - For table 3, $\\phi = -0.02116$ and $\\phi = 0.09597$\n",
    " \n",
    "3. The interest for both tables is :\n",
    "\n",
    " - For table 2,  $ I = 1.10883$\n",
    " - For table 3,  $ I = 0.93506$ and $I=1.0638$"
   ]
  }
 ],
 "metadata": {
  "anaconda-cloud": {},
  "kernelspec": {
   "display_name": "Python 3",
   "language": "python",
   "name": "python3"
  },
  "language_info": {
   "codemirror_mode": {
    "name": "ipython",
    "version": 3
   },
   "file_extension": ".py",
   "mimetype": "text/x-python",
   "name": "python",
   "nbconvert_exporter": "python",
   "pygments_lexer": "ipython3",
   "version": "3.6.7"
  }
 },
 "nbformat": 4,
 "nbformat_minor": 1
}
